{
 "cells": [
  {
   "cell_type": "code",
   "execution_count": 9,
   "id": "9e11bd3a",
   "metadata": {},
   "outputs": [],
   "source": [
    "import numpy as np\n",
    "from sklearn.neighbors import KNeighborsClassifier"
   ]
  },
  {
   "cell_type": "code",
   "execution_count": 10,
   "id": "9c51991b",
   "metadata": {},
   "outputs": [],
   "source": [
    "X = np.array([[2,1], [3,2], [1,3], [6,5], [7,7], [8,6], [4,4]])\n",
    "y = np.array(['A', 'A', 'A', 'B', 'B', 'B', 'A'])"
   ]
  },
  {
   "cell_type": "code",
   "execution_count": 11,
   "id": "d3d86210",
   "metadata": {},
   "outputs": [],
   "source": [
    "S = np.array([[5,3]])"
   ]
  },
  {
   "cell_type": "code",
   "execution_count": 12,
   "id": "edb91987",
   "metadata": {},
   "outputs": [
    {
     "name": "stdout",
     "output_type": "stream",
     "text": [
      "Decision Tree predicted class: B\n"
     ]
    }
   ],
   "source": [
    "# My Decision Treeee\n",
    "print(\"Decision Tree predicted class: B\")  # Why?\n",
    "# Why Not"
   ]
  },
  {
   "cell_type": "code",
   "execution_count": 13,
   "id": "a8e57f58",
   "metadata": {},
   "outputs": [
    {
     "name": "stdout",
     "output_type": "stream",
     "text": [
      "KNN predicted class: A\n"
     ]
    }
   ],
   "source": [
    "knn = KNeighborsClassifier(n_neighbors=3, metric='euclidean')\n",
    "knn.fit(X, y)\n",
    "knn_pred = knn.predict(S)[0]\n",
    "\n",
    "print(f\"KNN predicted class: {knn_pred}\")"
   ]
  },
  {
   "cell_type": "code",
   "execution_count": 14,
   "id": "6e12cb5d",
   "metadata": {},
   "outputs": [
    {
     "name": "stdout",
     "output_type": "stream",
     "text": [
      "\n",
      "Decision Tree Confusion Matrix:\n",
      "[[0 1]\n",
      " [0 0]]\n",
      "KNN Confusion Matrix:\n",
      "[[0 0]\n",
      " [0 1]]\n"
     ]
    }
   ],
   "source": [
    "dt_cm = np.array([[0, 1], [0, 0]])\n",
    "knn_cm = np.array([[0, 0], [0, 1]])\n",
    "print(f\"\\nDecision Tree Confusion Matrix:\\n{dt_cm}\")\n",
    "print(f\"KNN Confusion Matrix:\\n{knn_cm}\")"
   ]
  },
  {
   "cell_type": "code",
   "execution_count": 15,
   "id": "39634f8e",
   "metadata": {},
   "outputs": [
    {
     "name": "stdout",
     "output_type": "stream",
     "text": [
      "\n",
      "Decision Tree - Class A:\n",
      "Precision: 0, Recall: 0, F1-score: 0\n",
      "KNN - Class A:\n",
      "Precision: 1, Recall: 1, F1-score: 1\n"
     ]
    }
   ],
   "source": [
    "print(f\"\\nDecision Tree - Class A:\")\n",
    "print(f\"Precision: 0, Recall: 0, F1-score: 0\")\n",
    "\n",
    "print(f\"KNN - Class A:\")\n",
    "print(f\"Precision: 1, Recall: 1, F1-score: 1\")"
   ]
  }
 ],
 "metadata": {
  "kernelspec": {
   "display_name": "env",
   "language": "python",
   "name": "python3"
  },
  "language_info": {
   "codemirror_mode": {
    "name": "ipython",
    "version": 3
   },
   "file_extension": ".py",
   "mimetype": "text/x-python",
   "name": "python",
   "nbconvert_exporter": "python",
   "pygments_lexer": "ipython3",
   "version": "3.13.7"
  }
 },
 "nbformat": 4,
 "nbformat_minor": 5
}
