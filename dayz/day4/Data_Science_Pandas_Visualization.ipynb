{
 "cells": [
  {
   "cell_type": "markdown",
   "id": "239a0770",
   "metadata": {},
   "source": [
    "# Data Science with Pandas & Visualization\n",
    "\n",
    "This notebook is based on the provided slides.  \n",
    "It covers data loading, exploration, cleaning, manipulation, groupby & aggregations, and visualization using **Pandas**, **Matplotlib**, and **Seaborn**.\n"
   ]
  },
  {
   "cell_type": "code",
   "execution_count": null,
   "id": "0f38de07",
   "metadata": {},
   "outputs": [],
   "source": [
    "import pandas as pd\n",
    "import numpy as np "
   ]
  },
  {
   "cell_type": "code",
   "execution_count": null,
   "id": "d9b2902f-22d7-4324-8b7c-5ca20edec6c6",
   "metadata": {},
   "outputs": [],
   "source": [
    "np.nan"
   ]
  },
  {
   "cell_type": "markdown",
   "id": "8abafaac",
   "metadata": {},
   "source": [
    "## Loading Data\n",
    "We will create a sample dataset for demonstration."
   ]
  },
  {
   "cell_type": "code",
   "execution_count": 51,
   "id": "ec73aca6-6553-47c8-94e4-48e32fdab2d3",
   "metadata": {},
   "outputs": [],
   "source": [
    "data = {\n",
    "    \"Name\": [\"Alice\", \"Bob\", \"Charlie\", \"David\", \"Eva\", \"Frank\", \"Grace\", \"Helen\"],\n",
    "    \"Age\": [25, 30, 35, np.nan, 40, 28, 33, 29],\n",
    "    \"Height\": [165, 180, 175, 170, np.nan, 178, 160, 158],\n",
    "    \"Weight\": [55, 78, 72, np.nan, 68, 80, 54, 50],\n",
    "    \"Gender\": [\"F\", \"M\", \"M\", \"M\", \"F\", \"M\", \"F\", \"F\"]\n",
    "}"
   ]
  },
  {
   "cell_type": "code",
   "execution_count": 52,
   "id": "088a60c8-a73d-4986-86ef-a28fe387b097",
   "metadata": {},
   "outputs": [],
   "source": [
    "df = pd.DataFrame(data)"
   ]
  },
  {
   "cell_type": "code",
   "execution_count": 31,
   "id": "70a0a5f6-cc86-4138-95ae-f9942054e943",
   "metadata": {},
   "outputs": [
    {
     "data": {
      "text/html": [
       "<div>\n",
       "<style scoped>\n",
       "    .dataframe tbody tr th:only-of-type {\n",
       "        vertical-align: middle;\n",
       "    }\n",
       "\n",
       "    .dataframe tbody tr th {\n",
       "        vertical-align: top;\n",
       "    }\n",
       "\n",
       "    .dataframe thead th {\n",
       "        text-align: right;\n",
       "    }\n",
       "</style>\n",
       "<table border=\"1\" class=\"dataframe\">\n",
       "  <thead>\n",
       "    <tr style=\"text-align: right;\">\n",
       "      <th></th>\n",
       "      <th>Name</th>\n",
       "      <th>Age</th>\n",
       "      <th>Height</th>\n",
       "      <th>Weight</th>\n",
       "      <th>Gender</th>\n",
       "    </tr>\n",
       "  </thead>\n",
       "  <tbody>\n",
       "    <tr>\n",
       "      <th>0</th>\n",
       "      <td>Alice</td>\n",
       "      <td>25.0</td>\n",
       "      <td>165.0</td>\n",
       "      <td>55.0</td>\n",
       "      <td>F</td>\n",
       "    </tr>\n",
       "    <tr>\n",
       "      <th>1</th>\n",
       "      <td>Bob</td>\n",
       "      <td>30.0</td>\n",
       "      <td>180.0</td>\n",
       "      <td>78.0</td>\n",
       "      <td>M</td>\n",
       "    </tr>\n",
       "    <tr>\n",
       "      <th>2</th>\n",
       "      <td>Charlie</td>\n",
       "      <td>35.0</td>\n",
       "      <td>175.0</td>\n",
       "      <td>72.0</td>\n",
       "      <td>M</td>\n",
       "    </tr>\n",
       "    <tr>\n",
       "      <th>3</th>\n",
       "      <td>David</td>\n",
       "      <td>NaN</td>\n",
       "      <td>170.0</td>\n",
       "      <td>NaN</td>\n",
       "      <td>M</td>\n",
       "    </tr>\n",
       "    <tr>\n",
       "      <th>4</th>\n",
       "      <td>Eva</td>\n",
       "      <td>40.0</td>\n",
       "      <td>NaN</td>\n",
       "      <td>68.0</td>\n",
       "      <td>F</td>\n",
       "    </tr>\n",
       "    <tr>\n",
       "      <th>5</th>\n",
       "      <td>Frank</td>\n",
       "      <td>28.0</td>\n",
       "      <td>178.0</td>\n",
       "      <td>80.0</td>\n",
       "      <td>M</td>\n",
       "    </tr>\n",
       "    <tr>\n",
       "      <th>6</th>\n",
       "      <td>Grace</td>\n",
       "      <td>33.0</td>\n",
       "      <td>160.0</td>\n",
       "      <td>54.0</td>\n",
       "      <td>F</td>\n",
       "    </tr>\n",
       "    <tr>\n",
       "      <th>7</th>\n",
       "      <td>Helen</td>\n",
       "      <td>29.0</td>\n",
       "      <td>158.0</td>\n",
       "      <td>50.0</td>\n",
       "      <td>F</td>\n",
       "    </tr>\n",
       "  </tbody>\n",
       "</table>\n",
       "</div>"
      ],
      "text/plain": [
       "      Name   Age  Height  Weight Gender\n",
       "0    Alice  25.0   165.0    55.0      F\n",
       "1      Bob  30.0   180.0    78.0      M\n",
       "2  Charlie  35.0   175.0    72.0      M\n",
       "3    David   NaN   170.0     NaN      M\n",
       "4      Eva  40.0     NaN    68.0      F\n",
       "5    Frank  28.0   178.0    80.0      M\n",
       "6    Grace  33.0   160.0    54.0      F\n",
       "7    Helen  29.0   158.0    50.0      F"
      ]
     },
     "execution_count": 31,
     "metadata": {},
     "output_type": "execute_result"
    }
   ],
   "source": [
    "df"
   ]
  },
  {
   "cell_type": "code",
   "execution_count": 9,
   "id": "1da9c739-8a6c-4d3d-bd0a-b0996f78a024",
   "metadata": {},
   "outputs": [],
   "source": [
    "df.to_csv(\"data.csv\")"
   ]
  },
  {
   "cell_type": "code",
   "execution_count": 11,
   "id": "bec02a12-f0f7-49f6-8b3e-8cc3439ddac7",
   "metadata": {},
   "outputs": [
    {
     "name": "stdout",
     "output_type": "stream",
     "text": [
      " Volume in drive D is New Volume\n",
      " Volume Serial Number is 08A1-BAD7\n",
      "\n",
      " Directory of D:\\new_compant\\Training\n",
      "\n",
      "09/02/2025  07:03 PM    <DIR>          .\n",
      "08/27/2025  04:58 PM    <DIR>          ..\n",
      "09/02/2025  06:59 PM    <DIR>          .ipynb_checkpoints\n",
      "09/02/2025  07:03 PM               195 data.csv\n",
      "09/02/2025  07:03 PM            22,606 Data_Science_Pandas_Visualization.ipynb\n",
      "08/28/2025  08:28 PM            38,203 Day-2.ipynb\n",
      "08/28/2025  08:42 PM             8,192 mysql.db\n",
      "08/28/2025  08:52 PM             4,616 mysql.db-journal\n",
      "08/28/2025  09:05 PM             7,064 SQL.ipynb\n",
      "08/28/2025  09:35 PM            10,838 sql_local.ipynb\n",
      "08/27/2025  05:04 PM    <DIR>          test\n",
      "08/27/2025  07:16 PM               618 Untitled.ipynb\n",
      "08/27/2025  07:17 PM               618 Untitled1.ipynb\n",
      "08/27/2025  07:19 PM               618 Untitled2.ipynb\n",
      "              10 File(s)         93,568 bytes\n",
      "               4 Dir(s)  145,289,756,672 bytes free\n"
     ]
    }
   ],
   "source": [
    "%ls "
   ]
  },
  {
   "cell_type": "code",
   "execution_count": 12,
   "id": "8eb0fa0c-3c78-4094-a87e-96e3a0e09563",
   "metadata": {},
   "outputs": [],
   "source": [
    "df = pd.read_csv(\"data.csv\")"
   ]
  },
  {
   "cell_type": "code",
   "execution_count": 32,
   "id": "af0825d8-97de-4d7e-b118-151c23d31b4e",
   "metadata": {},
   "outputs": [
    {
     "data": {
      "text/plain": [
       "Index(['Name', 'Age', 'Height', 'Weight', 'Gender'], dtype='object')"
      ]
     },
     "execution_count": 32,
     "metadata": {},
     "output_type": "execute_result"
    }
   ],
   "source": [
    "df.columns"
   ]
  },
  {
   "cell_type": "code",
   "execution_count": 15,
   "id": "524a78a9-ba62-4133-a161-792169214128",
   "metadata": {},
   "outputs": [],
   "source": [
    "df_fil = df[['Name', 'Age', 'Height', 'Weight', 'Gender']]"
   ]
  },
  {
   "cell_type": "code",
   "execution_count": 16,
   "id": "ba462cca-3486-43f9-a7e1-a79e907bbce1",
   "metadata": {},
   "outputs": [
    {
     "data": {
      "text/html": [
       "<div>\n",
       "<style scoped>\n",
       "    .dataframe tbody tr th:only-of-type {\n",
       "        vertical-align: middle;\n",
       "    }\n",
       "\n",
       "    .dataframe tbody tr th {\n",
       "        vertical-align: top;\n",
       "    }\n",
       "\n",
       "    .dataframe thead th {\n",
       "        text-align: right;\n",
       "    }\n",
       "</style>\n",
       "<table border=\"1\" class=\"dataframe\">\n",
       "  <thead>\n",
       "    <tr style=\"text-align: right;\">\n",
       "      <th></th>\n",
       "      <th>Name</th>\n",
       "      <th>Age</th>\n",
       "      <th>Height</th>\n",
       "      <th>Weight</th>\n",
       "      <th>Gender</th>\n",
       "    </tr>\n",
       "  </thead>\n",
       "  <tbody>\n",
       "    <tr>\n",
       "      <th>0</th>\n",
       "      <td>Alice</td>\n",
       "      <td>25</td>\n",
       "      <td>165</td>\n",
       "      <td>55</td>\n",
       "      <td>F</td>\n",
       "    </tr>\n",
       "    <tr>\n",
       "      <th>1</th>\n",
       "      <td>Bob</td>\n",
       "      <td>30</td>\n",
       "      <td>180</td>\n",
       "      <td>78</td>\n",
       "      <td>M</td>\n",
       "    </tr>\n",
       "    <tr>\n",
       "      <th>2</th>\n",
       "      <td>Charlie</td>\n",
       "      <td>35</td>\n",
       "      <td>175</td>\n",
       "      <td>72</td>\n",
       "      <td>M</td>\n",
       "    </tr>\n",
       "    <tr>\n",
       "      <th>3</th>\n",
       "      <td>David</td>\n",
       "      <td>0</td>\n",
       "      <td>170</td>\n",
       "      <td>70</td>\n",
       "      <td>M</td>\n",
       "    </tr>\n",
       "    <tr>\n",
       "      <th>4</th>\n",
       "      <td>Eva</td>\n",
       "      <td>40</td>\n",
       "      <td>0</td>\n",
       "      <td>68</td>\n",
       "      <td>F</td>\n",
       "    </tr>\n",
       "    <tr>\n",
       "      <th>5</th>\n",
       "      <td>Frank</td>\n",
       "      <td>28</td>\n",
       "      <td>178</td>\n",
       "      <td>80</td>\n",
       "      <td>M</td>\n",
       "    </tr>\n",
       "    <tr>\n",
       "      <th>6</th>\n",
       "      <td>Grace</td>\n",
       "      <td>33</td>\n",
       "      <td>160</td>\n",
       "      <td>54</td>\n",
       "      <td>F</td>\n",
       "    </tr>\n",
       "    <tr>\n",
       "      <th>7</th>\n",
       "      <td>Helen</td>\n",
       "      <td>29</td>\n",
       "      <td>158</td>\n",
       "      <td>50</td>\n",
       "      <td>F</td>\n",
       "    </tr>\n",
       "  </tbody>\n",
       "</table>\n",
       "</div>"
      ],
      "text/plain": [
       "      Name  Age  Height  Weight Gender\n",
       "0    Alice   25     165      55      F\n",
       "1      Bob   30     180      78      M\n",
       "2  Charlie   35     175      72      M\n",
       "3    David    0     170      70      M\n",
       "4      Eva   40       0      68      F\n",
       "5    Frank   28     178      80      M\n",
       "6    Grace   33     160      54      F\n",
       "7    Helen   29     158      50      F"
      ]
     },
     "execution_count": 16,
     "metadata": {},
     "output_type": "execute_result"
    }
   ],
   "source": [
    "df_fil"
   ]
  },
  {
   "cell_type": "code",
   "execution_count": 20,
   "id": "7b537ae0-64d5-4f3f-ad3d-264f77acf6db",
   "metadata": {},
   "outputs": [],
   "source": [
    "df_fil2 = df.drop([\"Unnamed: 0\",\"Height\" ], axis=1)"
   ]
  },
  {
   "cell_type": "code",
   "execution_count": 21,
   "id": "24116d50-0b0e-4773-8746-ce6e8de83807",
   "metadata": {},
   "outputs": [
    {
     "data": {
      "text/html": [
       "<div>\n",
       "<style scoped>\n",
       "    .dataframe tbody tr th:only-of-type {\n",
       "        vertical-align: middle;\n",
       "    }\n",
       "\n",
       "    .dataframe tbody tr th {\n",
       "        vertical-align: top;\n",
       "    }\n",
       "\n",
       "    .dataframe thead th {\n",
       "        text-align: right;\n",
       "    }\n",
       "</style>\n",
       "<table border=\"1\" class=\"dataframe\">\n",
       "  <thead>\n",
       "    <tr style=\"text-align: right;\">\n",
       "      <th></th>\n",
       "      <th>Name</th>\n",
       "      <th>Age</th>\n",
       "      <th>Weight</th>\n",
       "      <th>Gender</th>\n",
       "    </tr>\n",
       "  </thead>\n",
       "  <tbody>\n",
       "    <tr>\n",
       "      <th>0</th>\n",
       "      <td>Alice</td>\n",
       "      <td>25</td>\n",
       "      <td>55</td>\n",
       "      <td>F</td>\n",
       "    </tr>\n",
       "    <tr>\n",
       "      <th>1</th>\n",
       "      <td>Bob</td>\n",
       "      <td>30</td>\n",
       "      <td>78</td>\n",
       "      <td>M</td>\n",
       "    </tr>\n",
       "    <tr>\n",
       "      <th>2</th>\n",
       "      <td>Charlie</td>\n",
       "      <td>35</td>\n",
       "      <td>72</td>\n",
       "      <td>M</td>\n",
       "    </tr>\n",
       "    <tr>\n",
       "      <th>3</th>\n",
       "      <td>David</td>\n",
       "      <td>0</td>\n",
       "      <td>70</td>\n",
       "      <td>M</td>\n",
       "    </tr>\n",
       "    <tr>\n",
       "      <th>4</th>\n",
       "      <td>Eva</td>\n",
       "      <td>40</td>\n",
       "      <td>68</td>\n",
       "      <td>F</td>\n",
       "    </tr>\n",
       "    <tr>\n",
       "      <th>5</th>\n",
       "      <td>Frank</td>\n",
       "      <td>28</td>\n",
       "      <td>80</td>\n",
       "      <td>M</td>\n",
       "    </tr>\n",
       "    <tr>\n",
       "      <th>6</th>\n",
       "      <td>Grace</td>\n",
       "      <td>33</td>\n",
       "      <td>54</td>\n",
       "      <td>F</td>\n",
       "    </tr>\n",
       "    <tr>\n",
       "      <th>7</th>\n",
       "      <td>Helen</td>\n",
       "      <td>29</td>\n",
       "      <td>50</td>\n",
       "      <td>F</td>\n",
       "    </tr>\n",
       "  </tbody>\n",
       "</table>\n",
       "</div>"
      ],
      "text/plain": [
       "      Name  Age  Weight Gender\n",
       "0    Alice   25      55      F\n",
       "1      Bob   30      78      M\n",
       "2  Charlie   35      72      M\n",
       "3    David    0      70      M\n",
       "4      Eva   40      68      F\n",
       "5    Frank   28      80      M\n",
       "6    Grace   33      54      F\n",
       "7    Helen   29      50      F"
      ]
     },
     "execution_count": 21,
     "metadata": {},
     "output_type": "execute_result"
    }
   ],
   "source": [
    "df_fil2"
   ]
  },
  {
   "cell_type": "code",
   "execution_count": 24,
   "id": "295b95e1-9cae-4902-be65-ad974f45c22d",
   "metadata": {},
   "outputs": [
    {
     "data": {
      "text/html": [
       "<div>\n",
       "<style scoped>\n",
       "    .dataframe tbody tr th:only-of-type {\n",
       "        vertical-align: middle;\n",
       "    }\n",
       "\n",
       "    .dataframe tbody tr th {\n",
       "        vertical-align: top;\n",
       "    }\n",
       "\n",
       "    .dataframe thead th {\n",
       "        text-align: right;\n",
       "    }\n",
       "</style>\n",
       "<table border=\"1\" class=\"dataframe\">\n",
       "  <thead>\n",
       "    <tr style=\"text-align: right;\">\n",
       "      <th></th>\n",
       "      <th>Unnamed: 0</th>\n",
       "      <th>Name</th>\n",
       "      <th>Age</th>\n",
       "      <th>Height</th>\n",
       "      <th>Weight</th>\n",
       "      <th>Gender</th>\n",
       "    </tr>\n",
       "  </thead>\n",
       "  <tbody>\n",
       "    <tr>\n",
       "      <th>0</th>\n",
       "      <td>0</td>\n",
       "      <td>Alice</td>\n",
       "      <td>25</td>\n",
       "      <td>165</td>\n",
       "      <td>55</td>\n",
       "      <td>F</td>\n",
       "    </tr>\n",
       "  </tbody>\n",
       "</table>\n",
       "</div>"
      ],
      "text/plain": [
       "   Unnamed: 0   Name  Age  Height  Weight Gender\n",
       "0           0  Alice   25     165      55      F"
      ]
     },
     "execution_count": 24,
     "metadata": {},
     "output_type": "execute_result"
    }
   ],
   "source": [
    "df.head(1)"
   ]
  },
  {
   "cell_type": "code",
   "execution_count": 25,
   "id": "3ec5eb81-2a7f-4f8e-a0e9-586e5029eabd",
   "metadata": {},
   "outputs": [
    {
     "data": {
      "text/html": [
       "<div>\n",
       "<style scoped>\n",
       "    .dataframe tbody tr th:only-of-type {\n",
       "        vertical-align: middle;\n",
       "    }\n",
       "\n",
       "    .dataframe tbody tr th {\n",
       "        vertical-align: top;\n",
       "    }\n",
       "\n",
       "    .dataframe thead th {\n",
       "        text-align: right;\n",
       "    }\n",
       "</style>\n",
       "<table border=\"1\" class=\"dataframe\">\n",
       "  <thead>\n",
       "    <tr style=\"text-align: right;\">\n",
       "      <th></th>\n",
       "      <th>Unnamed: 0</th>\n",
       "      <th>Name</th>\n",
       "      <th>Age</th>\n",
       "      <th>Height</th>\n",
       "      <th>Weight</th>\n",
       "      <th>Gender</th>\n",
       "    </tr>\n",
       "  </thead>\n",
       "  <tbody>\n",
       "    <tr>\n",
       "      <th>4</th>\n",
       "      <td>4</td>\n",
       "      <td>Eva</td>\n",
       "      <td>40</td>\n",
       "      <td>0</td>\n",
       "      <td>68</td>\n",
       "      <td>F</td>\n",
       "    </tr>\n",
       "    <tr>\n",
       "      <th>5</th>\n",
       "      <td>5</td>\n",
       "      <td>Frank</td>\n",
       "      <td>28</td>\n",
       "      <td>178</td>\n",
       "      <td>80</td>\n",
       "      <td>M</td>\n",
       "    </tr>\n",
       "    <tr>\n",
       "      <th>6</th>\n",
       "      <td>6</td>\n",
       "      <td>Grace</td>\n",
       "      <td>33</td>\n",
       "      <td>160</td>\n",
       "      <td>54</td>\n",
       "      <td>F</td>\n",
       "    </tr>\n",
       "    <tr>\n",
       "      <th>7</th>\n",
       "      <td>7</td>\n",
       "      <td>Helen</td>\n",
       "      <td>29</td>\n",
       "      <td>158</td>\n",
       "      <td>50</td>\n",
       "      <td>F</td>\n",
       "    </tr>\n",
       "  </tbody>\n",
       "</table>\n",
       "</div>"
      ],
      "text/plain": [
       "   Unnamed: 0   Name  Age  Height  Weight Gender\n",
       "4           4    Eva   40       0      68      F\n",
       "5           5  Frank   28     178      80      M\n",
       "6           6  Grace   33     160      54      F\n",
       "7           7  Helen   29     158      50      F"
      ]
     },
     "execution_count": 25,
     "metadata": {},
     "output_type": "execute_result"
    }
   ],
   "source": [
    "df.tail(4)"
   ]
  },
  {
   "cell_type": "code",
   "execution_count": null,
   "id": "00747a5b-4418-47c3-a110-964d41400d41",
   "metadata": {},
   "outputs": [],
   "source": [
    "df"
   ]
  },
  {
   "cell_type": "code",
   "execution_count": null,
   "id": "9d758e75",
   "metadata": {},
   "outputs": [],
   "source": [
    "\n",
    "# Sample dataset\n",
    "\n",
    "\n",
    "df = pd.DataFrame(data)\n",
    "df.to_csv(\"sample_data.csv\", index=False)\n",
    "\n",
    "# Load dataset from CSV\n",
    "df = pd.read_csv(\"sample_data.csv\")\n",
    "df.head()\n"
   ]
  },
  {
   "cell_type": "markdown",
   "id": "b4ee10fa",
   "metadata": {},
   "source": [
    "## Exploring Data"
   ]
  },
  {
   "cell_type": "code",
   "execution_count": 33,
   "id": "dc10cfb7",
   "metadata": {},
   "outputs": [
    {
     "name": "stdout",
     "output_type": "stream",
     "text": [
      "Head:\n",
      "      Name   Age  Height  Weight Gender\n",
      "0    Alice  25.0   165.0    55.0      F\n",
      "1      Bob  30.0   180.0    78.0      M\n",
      "2  Charlie  35.0   175.0    72.0      M\n",
      "3    David   NaN   170.0     NaN      M\n",
      "4      Eva  40.0     NaN    68.0      F\n",
      "\n",
      "Info:\n",
      "<class 'pandas.core.frame.DataFrame'>\n",
      "RangeIndex: 8 entries, 0 to 7\n",
      "Data columns (total 5 columns):\n",
      " #   Column  Non-Null Count  Dtype  \n",
      "---  ------  --------------  -----  \n",
      " 0   Name    8 non-null      object \n",
      " 1   Age     7 non-null      float64\n",
      " 2   Height  7 non-null      float64\n",
      " 3   Weight  7 non-null      float64\n",
      " 4   Gender  8 non-null      object \n",
      "dtypes: float64(3), object(2)\n",
      "memory usage: 448.0+ bytes\n",
      "None\n",
      "\n",
      "Describe:\n",
      "             Age      Height     Weight\n",
      "count   7.000000    7.000000   7.000000\n",
      "mean   31.428571  169.428571  65.285714\n",
      "std     4.995236    8.715066  12.229940\n",
      "min    25.000000  158.000000  50.000000\n",
      "25%    28.500000  162.500000  54.500000\n",
      "50%    30.000000  170.000000  68.000000\n",
      "75%    34.000000  176.500000  75.000000\n",
      "max    40.000000  180.000000  80.000000\n",
      "\n",
      "Shape: (8, 5)\n",
      "Columns: ['Name', 'Age', 'Height', 'Weight', 'Gender']\n",
      "Data types:\n",
      " Name       object\n",
      "Age       float64\n",
      "Height    float64\n",
      "Weight    float64\n",
      "Gender     object\n",
      "dtype: object\n"
     ]
    }
   ],
   "source": [
    "\n",
    "print(\"Head:\")\n",
    "print(df.head())\n",
    "\n",
    "print(\"\\nInfo:\")\n",
    "print(df.info())\n",
    "\n",
    "print(\"\\nDescribe:\")\n",
    "print(df.describe())\n",
    "\n",
    "print(\"\\nShape:\", df.shape)\n",
    "print(\"Columns:\", df.columns.tolist())\n",
    "print(\"Data types:\\n\", df.dtypes)\n"
   ]
  },
  {
   "cell_type": "code",
   "execution_count": 63,
   "id": "1985a91f-b079-48c0-81ef-235507dad985",
   "metadata": {},
   "outputs": [
    {
     "data": {
      "text/plain": [
       "1969557451152"
      ]
     },
     "execution_count": 63,
     "metadata": {},
     "output_type": "execute_result"
    }
   ],
   "source": [
    "id(df_fil_mean)"
   ]
  },
  {
   "cell_type": "code",
   "execution_count": 64,
   "id": "68bcbc32-0fdf-49ee-9eda-78fc813dc3c2",
   "metadata": {},
   "outputs": [
    {
     "data": {
      "text/plain": [
       "1969557687984"
      ]
     },
     "execution_count": 64,
     "metadata": {},
     "output_type": "execute_result"
    }
   ],
   "source": [
    "id(df)"
   ]
  },
  {
   "cell_type": "code",
   "execution_count": 61,
   "id": "1a185fc7-6f4d-4825-8a78-2bf59087d989",
   "metadata": {},
   "outputs": [],
   "source": [
    "df_fil_mean = df.copy()"
   ]
  },
  {
   "cell_type": "code",
   "execution_count": 65,
   "id": "22e01915-e2ec-4db4-968a-7a682c86f964",
   "metadata": {},
   "outputs": [
    {
     "data": {
      "text/html": [
       "<div>\n",
       "<style scoped>\n",
       "    .dataframe tbody tr th:only-of-type {\n",
       "        vertical-align: middle;\n",
       "    }\n",
       "\n",
       "    .dataframe tbody tr th {\n",
       "        vertical-align: top;\n",
       "    }\n",
       "\n",
       "    .dataframe thead th {\n",
       "        text-align: right;\n",
       "    }\n",
       "</style>\n",
       "<table border=\"1\" class=\"dataframe\">\n",
       "  <thead>\n",
       "    <tr style=\"text-align: right;\">\n",
       "      <th></th>\n",
       "      <th>Name</th>\n",
       "      <th>Age</th>\n",
       "      <th>Height</th>\n",
       "      <th>Weight</th>\n",
       "      <th>Gender</th>\n",
       "    </tr>\n",
       "  </thead>\n",
       "  <tbody>\n",
       "    <tr>\n",
       "      <th>0</th>\n",
       "      <td>Alice</td>\n",
       "      <td>25.0</td>\n",
       "      <td>165.0</td>\n",
       "      <td>55.0</td>\n",
       "      <td>F</td>\n",
       "    </tr>\n",
       "    <tr>\n",
       "      <th>1</th>\n",
       "      <td>Bob</td>\n",
       "      <td>30.0</td>\n",
       "      <td>180.0</td>\n",
       "      <td>78.0</td>\n",
       "      <td>M</td>\n",
       "    </tr>\n",
       "    <tr>\n",
       "      <th>2</th>\n",
       "      <td>Charlie</td>\n",
       "      <td>35.0</td>\n",
       "      <td>175.0</td>\n",
       "      <td>72.0</td>\n",
       "      <td>M</td>\n",
       "    </tr>\n",
       "    <tr>\n",
       "      <th>3</th>\n",
       "      <td>David</td>\n",
       "      <td>NaN</td>\n",
       "      <td>170.0</td>\n",
       "      <td>NaN</td>\n",
       "      <td>M</td>\n",
       "    </tr>\n",
       "    <tr>\n",
       "      <th>4</th>\n",
       "      <td>Eva</td>\n",
       "      <td>40.0</td>\n",
       "      <td>NaN</td>\n",
       "      <td>68.0</td>\n",
       "      <td>F</td>\n",
       "    </tr>\n",
       "    <tr>\n",
       "      <th>5</th>\n",
       "      <td>Frank</td>\n",
       "      <td>28.0</td>\n",
       "      <td>178.0</td>\n",
       "      <td>80.0</td>\n",
       "      <td>M</td>\n",
       "    </tr>\n",
       "    <tr>\n",
       "      <th>6</th>\n",
       "      <td>Grace</td>\n",
       "      <td>33.0</td>\n",
       "      <td>160.0</td>\n",
       "      <td>54.0</td>\n",
       "      <td>F</td>\n",
       "    </tr>\n",
       "    <tr>\n",
       "      <th>7</th>\n",
       "      <td>Helen</td>\n",
       "      <td>29.0</td>\n",
       "      <td>158.0</td>\n",
       "      <td>50.0</td>\n",
       "      <td>F</td>\n",
       "    </tr>\n",
       "  </tbody>\n",
       "</table>\n",
       "</div>"
      ],
      "text/plain": [
       "      Name   Age  Height  Weight Gender\n",
       "0    Alice  25.0   165.0    55.0      F\n",
       "1      Bob  30.0   180.0    78.0      M\n",
       "2  Charlie  35.0   175.0    72.0      M\n",
       "3    David   NaN   170.0     NaN      M\n",
       "4      Eva  40.0     NaN    68.0      F\n",
       "5    Frank  28.0   178.0    80.0      M\n",
       "6    Grace  33.0   160.0    54.0      F\n",
       "7    Helen  29.0   158.0    50.0      F"
      ]
     },
     "execution_count": 65,
     "metadata": {},
     "output_type": "execute_result"
    }
   ],
   "source": [
    "df"
   ]
  },
  {
   "cell_type": "markdown",
   "id": "bc3cb8cd",
   "metadata": {},
   "source": [
    "## Data Cleaning"
   ]
  },
  {
   "cell_type": "code",
   "execution_count": 55,
   "id": "39e43ffa-ff14-4357-a581-2820fa625e03",
   "metadata": {},
   "outputs": [],
   "source": [
    "df_fil_mean[\"Age\"] = df_fil_mean[\"Age\"].fillna(df_fil_mean[\"Age\"].mean())"
   ]
  },
  {
   "cell_type": "code",
   "execution_count": 56,
   "id": "61ad1a02-b455-4049-b027-1f6087c73c52",
   "metadata": {},
   "outputs": [],
   "source": [
    "df_fil_mean[\"Height\"] = df_fil_mean[\"Height\"].fillna(df_fil_mean[\"Height\"].mean())\n",
    "df_fil_mean[\"Weight\"] = df_fil_mean[\"Weight\"].fillna(df_fil_mean[\"Weight\"].mean())"
   ]
  },
  {
   "cell_type": "code",
   "execution_count": 66,
   "id": "e8dae670-352c-4bd6-9f0f-4d028399253e",
   "metadata": {},
   "outputs": [],
   "source": [
    " df_medi = df.copy()"
   ]
  },
  {
   "cell_type": "code",
   "execution_count": 67,
   "id": "63d55d87-cccb-4229-9f64-d585b231ef62",
   "metadata": {},
   "outputs": [],
   "source": [
    "df_medi[\"Height\"] = df_medi[\"Height\"].fillna(df_medi[\"Height\"].median())\n",
    "df_medi[\"Weight\"] = df_medi[\"Weight\"].fillna(df_medi[\"Weight\"].median())"
   ]
  },
  {
   "cell_type": "code",
   "execution_count": 68,
   "id": "ad136b0e-ef4b-47f1-92d4-62b34b37ed1c",
   "metadata": {},
   "outputs": [],
   "source": [
    "df_medi[\"Age\"] = df_medi[\"Age\"].fillna(df_medi[\"Age\"].median())"
   ]
  },
  {
   "cell_type": "code",
   "execution_count": 49,
   "id": "86fc1524-3cc5-4990-89c5-28cb35fa0efe",
   "metadata": {},
   "outputs": [
    {
     "data": {
      "text/html": [
       "<div>\n",
       "<style scoped>\n",
       "    .dataframe tbody tr th:only-of-type {\n",
       "        vertical-align: middle;\n",
       "    }\n",
       "\n",
       "    .dataframe tbody tr th {\n",
       "        vertical-align: top;\n",
       "    }\n",
       "\n",
       "    .dataframe thead th {\n",
       "        text-align: right;\n",
       "    }\n",
       "</style>\n",
       "<table border=\"1\" class=\"dataframe\">\n",
       "  <thead>\n",
       "    <tr style=\"text-align: right;\">\n",
       "      <th></th>\n",
       "      <th>Age</th>\n",
       "      <th>Height</th>\n",
       "      <th>Weight</th>\n",
       "    </tr>\n",
       "  </thead>\n",
       "  <tbody>\n",
       "    <tr>\n",
       "      <th>count</th>\n",
       "      <td>8.000000</td>\n",
       "      <td>8.000000</td>\n",
       "      <td>8.000000</td>\n",
       "    </tr>\n",
       "    <tr>\n",
       "      <th>mean</th>\n",
       "      <td>31.428571</td>\n",
       "      <td>169.428571</td>\n",
       "      <td>65.285714</td>\n",
       "    </tr>\n",
       "    <tr>\n",
       "      <th>std</th>\n",
       "      <td>4.624690</td>\n",
       "      <td>8.068584</td>\n",
       "      <td>11.322724</td>\n",
       "    </tr>\n",
       "    <tr>\n",
       "      <th>min</th>\n",
       "      <td>25.000000</td>\n",
       "      <td>158.000000</td>\n",
       "      <td>50.000000</td>\n",
       "    </tr>\n",
       "    <tr>\n",
       "      <th>25%</th>\n",
       "      <td>28.750000</td>\n",
       "      <td>163.750000</td>\n",
       "      <td>54.750000</td>\n",
       "    </tr>\n",
       "    <tr>\n",
       "      <th>50%</th>\n",
       "      <td>30.714286</td>\n",
       "      <td>169.714286</td>\n",
       "      <td>66.642857</td>\n",
       "    </tr>\n",
       "    <tr>\n",
       "      <th>75%</th>\n",
       "      <td>33.500000</td>\n",
       "      <td>175.750000</td>\n",
       "      <td>73.500000</td>\n",
       "    </tr>\n",
       "    <tr>\n",
       "      <th>max</th>\n",
       "      <td>40.000000</td>\n",
       "      <td>180.000000</td>\n",
       "      <td>80.000000</td>\n",
       "    </tr>\n",
       "  </tbody>\n",
       "</table>\n",
       "</div>"
      ],
      "text/plain": [
       "             Age      Height     Weight\n",
       "count   8.000000    8.000000   8.000000\n",
       "mean   31.428571  169.428571  65.285714\n",
       "std     4.624690    8.068584  11.322724\n",
       "min    25.000000  158.000000  50.000000\n",
       "25%    28.750000  163.750000  54.750000\n",
       "50%    30.714286  169.714286  66.642857\n",
       "75%    33.500000  175.750000  73.500000\n",
       "max    40.000000  180.000000  80.000000"
      ]
     },
     "execution_count": 49,
     "metadata": {},
     "output_type": "execute_result"
    }
   ],
   "source": [
    "df_fil_mean.describe()"
   ]
  },
  {
   "cell_type": "code",
   "execution_count": 69,
   "id": "db8c0453-a9fa-4129-a5b5-c4ed0c2d375a",
   "metadata": {},
   "outputs": [
    {
     "data": {
      "text/html": [
       "<div>\n",
       "<style scoped>\n",
       "    .dataframe tbody tr th:only-of-type {\n",
       "        vertical-align: middle;\n",
       "    }\n",
       "\n",
       "    .dataframe tbody tr th {\n",
       "        vertical-align: top;\n",
       "    }\n",
       "\n",
       "    .dataframe thead th {\n",
       "        text-align: right;\n",
       "    }\n",
       "</style>\n",
       "<table border=\"1\" class=\"dataframe\">\n",
       "  <thead>\n",
       "    <tr style=\"text-align: right;\">\n",
       "      <th></th>\n",
       "      <th>Age</th>\n",
       "      <th>Height</th>\n",
       "      <th>Weight</th>\n",
       "    </tr>\n",
       "  </thead>\n",
       "  <tbody>\n",
       "    <tr>\n",
       "      <th>count</th>\n",
       "      <td>8.000000</td>\n",
       "      <td>8.000000</td>\n",
       "      <td>8.000000</td>\n",
       "    </tr>\n",
       "    <tr>\n",
       "      <th>mean</th>\n",
       "      <td>31.250000</td>\n",
       "      <td>169.500000</td>\n",
       "      <td>65.625000</td>\n",
       "    </tr>\n",
       "    <tr>\n",
       "      <th>std</th>\n",
       "      <td>4.652188</td>\n",
       "      <td>8.071113</td>\n",
       "      <td>11.363318</td>\n",
       "    </tr>\n",
       "    <tr>\n",
       "      <th>min</th>\n",
       "      <td>25.000000</td>\n",
       "      <td>158.000000</td>\n",
       "      <td>50.000000</td>\n",
       "    </tr>\n",
       "    <tr>\n",
       "      <th>25%</th>\n",
       "      <td>28.750000</td>\n",
       "      <td>163.750000</td>\n",
       "      <td>54.750000</td>\n",
       "    </tr>\n",
       "    <tr>\n",
       "      <th>50%</th>\n",
       "      <td>30.000000</td>\n",
       "      <td>170.000000</td>\n",
       "      <td>68.000000</td>\n",
       "    </tr>\n",
       "    <tr>\n",
       "      <th>75%</th>\n",
       "      <td>33.500000</td>\n",
       "      <td>175.750000</td>\n",
       "      <td>73.500000</td>\n",
       "    </tr>\n",
       "    <tr>\n",
       "      <th>max</th>\n",
       "      <td>40.000000</td>\n",
       "      <td>180.000000</td>\n",
       "      <td>80.000000</td>\n",
       "    </tr>\n",
       "  </tbody>\n",
       "</table>\n",
       "</div>"
      ],
      "text/plain": [
       "             Age      Height     Weight\n",
       "count   8.000000    8.000000   8.000000\n",
       "mean   31.250000  169.500000  65.625000\n",
       "std     4.652188    8.071113  11.363318\n",
       "min    25.000000  158.000000  50.000000\n",
       "25%    28.750000  163.750000  54.750000\n",
       "50%    30.000000  170.000000  68.000000\n",
       "75%    33.500000  175.750000  73.500000\n",
       "max    40.000000  180.000000  80.000000"
      ]
     },
     "execution_count": 69,
     "metadata": {},
     "output_type": "execute_result"
    }
   ],
   "source": [
    "df_medi.describe()"
   ]
  },
  {
   "cell_type": "code",
   "execution_count": 70,
   "id": "10ce0ec0",
   "metadata": {},
   "outputs": [
    {
     "name": "stdout",
     "output_type": "stream",
     "text": [
      "<class 'pandas.core.frame.DataFrame'>\n",
      "RangeIndex: 8 entries, 0 to 7\n",
      "Data columns (total 5 columns):\n",
      " #   Column  Non-Null Count  Dtype  \n",
      "---  ------  --------------  -----  \n",
      " 0   Name    8 non-null      object \n",
      " 1   Age     8 non-null      float64\n",
      " 2   Height  8 non-null      float64\n",
      " 3   Weight  8 non-null      float64\n",
      " 4   Gender  8 non-null      object \n",
      "dtypes: float64(3), object(2)\n",
      "memory usage: 448.0+ bytes\n"
     ]
    },
    {
     "name": "stderr",
     "output_type": "stream",
     "text": [
      "C:\\Users\\hp\\AppData\\Local\\Temp\\ipykernel_27220\\2313289532.py:2: FutureWarning: A value is trying to be set on a copy of a DataFrame or Series through chained assignment using an inplace method.\n",
      "The behavior will change in pandas 3.0. This inplace method will never work because the intermediate object on which we are setting values always behaves as a copy.\n",
      "\n",
      "For example, when doing 'df[col].method(value, inplace=True)', try using 'df.method({col: value}, inplace=True)' or df[col] = df[col].method(value) instead, to perform the operation inplace on the original object.\n",
      "\n",
      "\n",
      "  df['Age'].fillna(df['Age'].mean(), inplace=True)\n",
      "C:\\Users\\hp\\AppData\\Local\\Temp\\ipykernel_27220\\2313289532.py:3: FutureWarning: A value is trying to be set on a copy of a DataFrame or Series through chained assignment using an inplace method.\n",
      "The behavior will change in pandas 3.0. This inplace method will never work because the intermediate object on which we are setting values always behaves as a copy.\n",
      "\n",
      "For example, when doing 'df[col].method(value, inplace=True)', try using 'df.method({col: value}, inplace=True)' or df[col] = df[col].method(value) instead, to perform the operation inplace on the original object.\n",
      "\n",
      "\n",
      "  df['Height'].fillna(df['Height'].median(), inplace=True)\n",
      "C:\\Users\\hp\\AppData\\Local\\Temp\\ipykernel_27220\\2313289532.py:4: FutureWarning: A value is trying to be set on a copy of a DataFrame or Series through chained assignment using an inplace method.\n",
      "The behavior will change in pandas 3.0. This inplace method will never work because the intermediate object on which we are setting values always behaves as a copy.\n",
      "\n",
      "For example, when doing 'df[col].method(value, inplace=True)', try using 'df.method({col: value}, inplace=True)' or df[col] = df[col].method(value) instead, to perform the operation inplace on the original object.\n",
      "\n",
      "\n",
      "  df['Weight'].fillna(df['Weight'].median(), inplace=True)\n"
     ]
    }
   ],
   "source": [
    "\n",
    "# Handling missing values\n",
    "df['Age'].fillna(df['Age'].mean(), inplace=True)\n",
    "df['Height'].fillna(df['Height'].median(), inplace=True)\n",
    "df['Weight'].fillna(df['Weight'].median(), inplace=True)\n",
    "# Check again\n",
    "df.info()\n"
   ]
  },
  {
   "cell_type": "code",
   "execution_count": 78,
   "id": "888adffe-4d04-4672-8e8a-e219255340ac",
   "metadata": {},
   "outputs": [],
   "source": [
    "adults = df[df['Age'] > 25]"
   ]
  },
  {
   "cell_type": "code",
   "execution_count": 79,
   "id": "7e0576e6-e4ab-4227-9dc2-3323b67bf8aa",
   "metadata": {},
   "outputs": [
    {
     "data": {
      "text/html": [
       "<div>\n",
       "<style scoped>\n",
       "    .dataframe tbody tr th:only-of-type {\n",
       "        vertical-align: middle;\n",
       "    }\n",
       "\n",
       "    .dataframe tbody tr th {\n",
       "        vertical-align: top;\n",
       "    }\n",
       "\n",
       "    .dataframe thead th {\n",
       "        text-align: right;\n",
       "    }\n",
       "</style>\n",
       "<table border=\"1\" class=\"dataframe\">\n",
       "  <thead>\n",
       "    <tr style=\"text-align: right;\">\n",
       "      <th></th>\n",
       "      <th>Name</th>\n",
       "      <th>Age</th>\n",
       "      <th>Height</th>\n",
       "      <th>Weight</th>\n",
       "      <th>Gender</th>\n",
       "      <th>BMI</th>\n",
       "    </tr>\n",
       "  </thead>\n",
       "  <tbody>\n",
       "    <tr>\n",
       "      <th>1</th>\n",
       "      <td>Bob</td>\n",
       "      <td>30.000000</td>\n",
       "      <td>180.0</td>\n",
       "      <td>78.0</td>\n",
       "      <td>M</td>\n",
       "      <td>24.074074</td>\n",
       "    </tr>\n",
       "    <tr>\n",
       "      <th>2</th>\n",
       "      <td>Charlie</td>\n",
       "      <td>35.000000</td>\n",
       "      <td>175.0</td>\n",
       "      <td>72.0</td>\n",
       "      <td>M</td>\n",
       "      <td>23.510204</td>\n",
       "    </tr>\n",
       "    <tr>\n",
       "      <th>3</th>\n",
       "      <td>David</td>\n",
       "      <td>31.428571</td>\n",
       "      <td>170.0</td>\n",
       "      <td>68.0</td>\n",
       "      <td>M</td>\n",
       "      <td>23.529412</td>\n",
       "    </tr>\n",
       "    <tr>\n",
       "      <th>4</th>\n",
       "      <td>Eva</td>\n",
       "      <td>40.000000</td>\n",
       "      <td>170.0</td>\n",
       "      <td>68.0</td>\n",
       "      <td>F</td>\n",
       "      <td>23.529412</td>\n",
       "    </tr>\n",
       "    <tr>\n",
       "      <th>5</th>\n",
       "      <td>Frank</td>\n",
       "      <td>28.000000</td>\n",
       "      <td>178.0</td>\n",
       "      <td>80.0</td>\n",
       "      <td>M</td>\n",
       "      <td>25.249337</td>\n",
       "    </tr>\n",
       "    <tr>\n",
       "      <th>6</th>\n",
       "      <td>Grace</td>\n",
       "      <td>33.000000</td>\n",
       "      <td>160.0</td>\n",
       "      <td>54.0</td>\n",
       "      <td>F</td>\n",
       "      <td>21.093750</td>\n",
       "    </tr>\n",
       "    <tr>\n",
       "      <th>7</th>\n",
       "      <td>Helen</td>\n",
       "      <td>29.000000</td>\n",
       "      <td>158.0</td>\n",
       "      <td>50.0</td>\n",
       "      <td>F</td>\n",
       "      <td>20.028842</td>\n",
       "    </tr>\n",
       "  </tbody>\n",
       "</table>\n",
       "</div>"
      ],
      "text/plain": [
       "      Name        Age  Height  Weight Gender        BMI\n",
       "1      Bob  30.000000   180.0    78.0      M  24.074074\n",
       "2  Charlie  35.000000   175.0    72.0      M  23.510204\n",
       "3    David  31.428571   170.0    68.0      M  23.529412\n",
       "4      Eva  40.000000   170.0    68.0      F  23.529412\n",
       "5    Frank  28.000000   178.0    80.0      M  25.249337\n",
       "6    Grace  33.000000   160.0    54.0      F  21.093750\n",
       "7    Helen  29.000000   158.0    50.0      F  20.028842"
      ]
     },
     "execution_count": 79,
     "metadata": {},
     "output_type": "execute_result"
    }
   ],
   "source": [
    "adults"
   ]
  },
  {
   "cell_type": "markdown",
   "id": "db43ee71",
   "metadata": {},
   "source": [
    "## Data Manipulation"
   ]
  },
  {
   "cell_type": "code",
   "execution_count": 71,
   "id": "3bda4c08",
   "metadata": {},
   "outputs": [
    {
     "data": {
      "text/html": [
       "<div>\n",
       "<style scoped>\n",
       "    .dataframe tbody tr th:only-of-type {\n",
       "        vertical-align: middle;\n",
       "    }\n",
       "\n",
       "    .dataframe tbody tr th {\n",
       "        vertical-align: top;\n",
       "    }\n",
       "\n",
       "    .dataframe thead th {\n",
       "        text-align: right;\n",
       "    }\n",
       "</style>\n",
       "<table border=\"1\" class=\"dataframe\">\n",
       "  <thead>\n",
       "    <tr style=\"text-align: right;\">\n",
       "      <th></th>\n",
       "      <th>Name</th>\n",
       "      <th>Age</th>\n",
       "      <th>Height</th>\n",
       "      <th>Weight</th>\n",
       "      <th>Gender</th>\n",
       "      <th>BMI</th>\n",
       "    </tr>\n",
       "  </thead>\n",
       "  <tbody>\n",
       "    <tr>\n",
       "      <th>0</th>\n",
       "      <td>Alice</td>\n",
       "      <td>25.000000</td>\n",
       "      <td>165.0</td>\n",
       "      <td>55.0</td>\n",
       "      <td>F</td>\n",
       "      <td>20.202020</td>\n",
       "    </tr>\n",
       "    <tr>\n",
       "      <th>5</th>\n",
       "      <td>Frank</td>\n",
       "      <td>28.000000</td>\n",
       "      <td>178.0</td>\n",
       "      <td>80.0</td>\n",
       "      <td>M</td>\n",
       "      <td>25.249337</td>\n",
       "    </tr>\n",
       "    <tr>\n",
       "      <th>7</th>\n",
       "      <td>Helen</td>\n",
       "      <td>29.000000</td>\n",
       "      <td>158.0</td>\n",
       "      <td>50.0</td>\n",
       "      <td>F</td>\n",
       "      <td>20.028842</td>\n",
       "    </tr>\n",
       "    <tr>\n",
       "      <th>1</th>\n",
       "      <td>Bob</td>\n",
       "      <td>30.000000</td>\n",
       "      <td>180.0</td>\n",
       "      <td>78.0</td>\n",
       "      <td>M</td>\n",
       "      <td>24.074074</td>\n",
       "    </tr>\n",
       "    <tr>\n",
       "      <th>3</th>\n",
       "      <td>David</td>\n",
       "      <td>31.428571</td>\n",
       "      <td>170.0</td>\n",
       "      <td>68.0</td>\n",
       "      <td>M</td>\n",
       "      <td>23.529412</td>\n",
       "    </tr>\n",
       "    <tr>\n",
       "      <th>6</th>\n",
       "      <td>Grace</td>\n",
       "      <td>33.000000</td>\n",
       "      <td>160.0</td>\n",
       "      <td>54.0</td>\n",
       "      <td>F</td>\n",
       "      <td>21.093750</td>\n",
       "    </tr>\n",
       "    <tr>\n",
       "      <th>2</th>\n",
       "      <td>Charlie</td>\n",
       "      <td>35.000000</td>\n",
       "      <td>175.0</td>\n",
       "      <td>72.0</td>\n",
       "      <td>M</td>\n",
       "      <td>23.510204</td>\n",
       "    </tr>\n",
       "    <tr>\n",
       "      <th>4</th>\n",
       "      <td>Eva</td>\n",
       "      <td>40.000000</td>\n",
       "      <td>170.0</td>\n",
       "      <td>68.0</td>\n",
       "      <td>F</td>\n",
       "      <td>23.529412</td>\n",
       "    </tr>\n",
       "  </tbody>\n",
       "</table>\n",
       "</div>"
      ],
      "text/plain": [
       "      Name        Age  Height  Weight Gender        BMI\n",
       "0    Alice  25.000000   165.0    55.0      F  20.202020\n",
       "5    Frank  28.000000   178.0    80.0      M  25.249337\n",
       "7    Helen  29.000000   158.0    50.0      F  20.028842\n",
       "1      Bob  30.000000   180.0    78.0      M  24.074074\n",
       "3    David  31.428571   170.0    68.0      M  23.529412\n",
       "6    Grace  33.000000   160.0    54.0      F  21.093750\n",
       "2  Charlie  35.000000   175.0    72.0      M  23.510204\n",
       "4      Eva  40.000000   170.0    68.0      F  23.529412"
      ]
     },
     "execution_count": 71,
     "metadata": {},
     "output_type": "execute_result"
    }
   ],
   "source": [
    "\n",
    "# Select column\n",
    "ages = df['Age']\n",
    "\n",
    "# Filter rows\n",
    "adults = df[df['Age'] > 18]\n",
    "\n",
    "# Create new column BMI\n",
    "df['BMI'] = df['Weight'] / (df['Height']/100)**2\n",
    "\n",
    "# Sort by Age\n",
    "df_sorted = df.sort_values('Age')\n",
    "\n",
    "df_sorted\n"
   ]
  },
  {
   "cell_type": "code",
   "execution_count": 84,
   "id": "7f0cff36-f897-4da8-b5ff-a88257acb896",
   "metadata": {},
   "outputs": [
    {
     "data": {
      "text/plain": [
       "['F', 'M']"
      ]
     },
     "execution_count": 84,
     "metadata": {},
     "output_type": "execute_result"
    }
   ],
   "source": [
    "list (df[\"Gender\"].unique()) "
   ]
  },
  {
   "cell_type": "markdown",
   "id": "7cbff401",
   "metadata": {},
   "source": [
    "## GroupBy & Aggregations"
   ]
  },
  {
   "cell_type": "code",
   "execution_count": 80,
   "id": "ae6b83d0-7cf2-4f28-96b2-eda9c6d18adc",
   "metadata": {},
   "outputs": [
    {
     "data": {
      "text/plain": [
       "Gender\n",
       "F    31.750000\n",
       "M    31.107143\n",
       "Name: Age, dtype: float64"
      ]
     },
     "execution_count": 80,
     "metadata": {},
     "output_type": "execute_result"
    }
   ],
   "source": [
    "mean_age = df.groupby(\"Gender\")[\"Age\"].mean()\n",
    "mean_age"
   ]
  },
  {
   "cell_type": "code",
   "execution_count": 85,
   "id": "b27842a9-3aba-4ecd-a825-d7dca961bc9d",
   "metadata": {},
   "outputs": [],
   "source": [
    "agg_data = df.groupby(\"Gender\").agg({\n",
    "    \"Age\": \"mean\",\n",
    "    \"Weight\": \"sum\",\n",
    "    \"BMI\": \"mean\"\n",
    "})"
   ]
  },
  {
   "cell_type": "code",
   "execution_count": 86,
   "id": "75837f91-1d00-4b06-b9f2-abc36112eb48",
   "metadata": {},
   "outputs": [
    {
     "data": {
      "text/html": [
       "<div>\n",
       "<style scoped>\n",
       "    .dataframe tbody tr th:only-of-type {\n",
       "        vertical-align: middle;\n",
       "    }\n",
       "\n",
       "    .dataframe tbody tr th {\n",
       "        vertical-align: top;\n",
       "    }\n",
       "\n",
       "    .dataframe thead th {\n",
       "        text-align: right;\n",
       "    }\n",
       "</style>\n",
       "<table border=\"1\" class=\"dataframe\">\n",
       "  <thead>\n",
       "    <tr style=\"text-align: right;\">\n",
       "      <th></th>\n",
       "      <th>Age</th>\n",
       "      <th>Weight</th>\n",
       "      <th>BMI</th>\n",
       "    </tr>\n",
       "    <tr>\n",
       "      <th>Gender</th>\n",
       "      <th></th>\n",
       "      <th></th>\n",
       "      <th></th>\n",
       "    </tr>\n",
       "  </thead>\n",
       "  <tbody>\n",
       "    <tr>\n",
       "      <th>F</th>\n",
       "      <td>31.750000</td>\n",
       "      <td>227.0</td>\n",
       "      <td>21.213506</td>\n",
       "    </tr>\n",
       "    <tr>\n",
       "      <th>M</th>\n",
       "      <td>31.107143</td>\n",
       "      <td>298.0</td>\n",
       "      <td>24.090757</td>\n",
       "    </tr>\n",
       "  </tbody>\n",
       "</table>\n",
       "</div>"
      ],
      "text/plain": [
       "              Age  Weight        BMI\n",
       "Gender                              \n",
       "F       31.750000   227.0  21.213506\n",
       "M       31.107143   298.0  24.090757"
      ]
     },
     "execution_count": 86,
     "metadata": {},
     "output_type": "execute_result"
    }
   ],
   "source": [
    "agg_data"
   ]
  },
  {
   "cell_type": "code",
   "execution_count": null,
   "id": "c436a8b1",
   "metadata": {},
   "outputs": [],
   "source": [
    "\n",
    "# Mean age by Gender\n",
    "mean_age = df.groupby(\"Gender\")[\"Age\"].mean()\n",
    "\n",
    "# Aggregation example\n",
    "agg_data = df.groupby(\"Gender\").agg({\n",
    "    \"Age\": \"mean\",\n",
    "    \"Weight\": \"sum\",\n",
    "    \"BMI\": \"mean\"\n",
    "})\n",
    "\n",
    "mean_age, agg_data\n"
   ]
  },
  {
   "cell_type": "code",
   "execution_count": 88,
   "id": "2f6c1112-1c7d-4f80-852b-2f22f94d9cf0",
   "metadata": {},
   "outputs": [],
   "source": [
    "import matplotlib"
   ]
  },
  {
   "cell_type": "code",
   "execution_count": 89,
   "id": "c941668a-3db3-4bd9-b58f-4d9b63fedf2d",
   "metadata": {},
   "outputs": [],
   "source": [
    "import matplotlib.pyplot as plt "
   ]
  },
  {
   "cell_type": "markdown",
   "id": "132096c6",
   "metadata": {},
   "source": [
    "## Visualization with Matplotlib"
   ]
  },
  {
   "cell_type": "code",
   "execution_count": 90,
   "id": "d61cf46f",
   "metadata": {},
   "outputs": [
    {
     "data": {
      "image/png": "[encoded data removed]",
      "text/plain": [
       "<Figure size 640x480 with 1 Axes>"
      ]
     },
     "metadata": {},
     "output_type": "display_data"
    }
   ],
   "source": [
    "\n",
    "plt.hist(df['Age'], bins=5, color='skyblue', edgecolor='black')\n",
    "plt.title(\"Age Distribution\")\n",
    "plt.xlabel(\"Age\")\n",
    "plt.ylabel(\"Count\")\n",
    "plt.show()\n"
   ]
  },
  {
   "cell_type": "code",
   "execution_count": 92,
   "id": "ea60bd36-b45d-4505-a6c7-c36daa242719",
   "metadata": {},
   "outputs": [
    {
     "data": {
      "image/png": "[encoded data removed]",
      "text/plain": [
       "<Figure size 640x480 with 1 Axes>"
      ]
     },
     "metadata": {},
     "output_type": "display_data"
    }
   ],
   "source": [
    "plt.scatter(df['Age'], df[\"Weight\"])\n",
    "plt.title(\"Age Vs Weight\")\n",
    "plt.xlabel(\"Age\")\n",
    "plt.ylabel(\"Weight\")\n",
    "plt.show()\n"
   ]
  },
  {
   "cell_type": "code",
   "execution_count": 94,
   "id": "e797fc5c-d694-4321-9fe7-dba3477c690f",
   "metadata": {},
   "outputs": [
    {
     "data": {
      "image/png": "[encoded data removed]",
      "text/plain": [
       "<Figure size 640x480 with 1 Axes>"
      ]
     },
     "metadata": {},
     "output_type": "display_data"
    }
   ],
   "source": [
    "plt.plot(df['Age'], df['Weight'])\n",
    "plt.title(\"Age\")\n",
    "plt.xlabel(\"age\")\n",
    "plt.ylabel(\"Weight\")\n",
    "plt.show()"
   ]
  },
  {
   "cell_type": "code",
   "execution_count": 96,
   "id": "3094e4ed-e9f2-4cad-8b59-5f69c749445e",
   "metadata": {},
   "outputs": [
    {
     "data": {
      "text/html": [
       "<div>\n",
       "<style scoped>\n",
       "    .dataframe tbody tr th:only-of-type {\n",
       "        vertical-align: middle;\n",
       "    }\n",
       "\n",
       "    .dataframe tbody tr th {\n",
       "        vertical-align: top;\n",
       "    }\n",
       "\n",
       "    .dataframe thead th {\n",
       "        text-align: right;\n",
       "    }\n",
       "</style>\n",
       "<table border=\"1\" class=\"dataframe\">\n",
       "  <thead>\n",
       "    <tr style=\"text-align: right;\">\n",
       "      <th></th>\n",
       "      <th>Age</th>\n",
       "      <th>Height</th>\n",
       "      <th>Weight</th>\n",
       "      <th>BMI</th>\n",
       "    </tr>\n",
       "  </thead>\n",
       "  <tbody>\n",
       "    <tr>\n",
       "      <th>count</th>\n",
       "      <td>8.000000</td>\n",
       "      <td>8.000000</td>\n",
       "      <td>8.000000</td>\n",
       "      <td>8.000000</td>\n",
       "    </tr>\n",
       "    <tr>\n",
       "      <th>mean</th>\n",
       "      <td>31.428571</td>\n",
       "      <td>169.500000</td>\n",
       "      <td>65.625000</td>\n",
       "      <td>22.652131</td>\n",
       "    </tr>\n",
       "    <tr>\n",
       "      <th>std</th>\n",
       "      <td>4.624690</td>\n",
       "      <td>8.071113</td>\n",
       "      <td>11.363318</td>\n",
       "      <td>1.940404</td>\n",
       "    </tr>\n",
       "    <tr>\n",
       "      <th>min</th>\n",
       "      <td>25.000000</td>\n",
       "      <td>158.000000</td>\n",
       "      <td>50.000000</td>\n",
       "      <td>20.028842</td>\n",
       "    </tr>\n",
       "    <tr>\n",
       "      <th>25%</th>\n",
       "      <td>28.750000</td>\n",
       "      <td>163.750000</td>\n",
       "      <td>54.750000</td>\n",
       "      <td>20.870818</td>\n",
       "    </tr>\n",
       "    <tr>\n",
       "      <th>50%</th>\n",
       "      <td>30.714286</td>\n",
       "      <td>170.000000</td>\n",
       "      <td>68.000000</td>\n",
       "      <td>23.519808</td>\n",
       "    </tr>\n",
       "    <tr>\n",
       "      <th>75%</th>\n",
       "      <td>33.500000</td>\n",
       "      <td>175.750000</td>\n",
       "      <td>73.500000</td>\n",
       "      <td>23.665577</td>\n",
       "    </tr>\n",
       "    <tr>\n",
       "      <th>max</th>\n",
       "      <td>40.000000</td>\n",
       "      <td>180.000000</td>\n",
       "      <td>80.000000</td>\n",
       "      <td>25.249337</td>\n",
       "    </tr>\n",
       "  </tbody>\n",
       "</table>\n",
       "</div>"
      ],
      "text/plain": [
       "             Age      Height     Weight        BMI\n",
       "count   8.000000    8.000000   8.000000   8.000000\n",
       "mean   31.428571  169.500000  65.625000  22.652131\n",
       "std     4.624690    8.071113  11.363318   1.940404\n",
       "min    25.000000  158.000000  50.000000  20.028842\n",
       "25%    28.750000  163.750000  54.750000  20.870818\n",
       "50%    30.714286  170.000000  68.000000  23.519808\n",
       "75%    33.500000  175.750000  73.500000  23.665577\n",
       "max    40.000000  180.000000  80.000000  25.249337"
      ]
     },
     "execution_count": 96,
     "metadata": {},
     "output_type": "execute_result"
    }
   ],
   "source": [
    "df.describe()"
   ]
  },
  {
   "cell_type": "code",
   "execution_count": null,
   "id": "6f2d731c-3390-4e70-83e4-bc6addfe5231",
   "metadata": {},
   "outputs": [],
   "source": []
  },
  {
   "cell_type": "code",
   "execution_count": 95,
   "id": "572e7730-2b2a-4855-b1cb-24939e156fbf",
   "metadata": {},
   "outputs": [
    {
     "data": {
      "image/png": "[encoded data removed]",
      "text/plain": [
       "<Figure size 640x480 with 1 Axes>"
      ]
     },
     "metadata": {},
     "output_type": "display_data"
    }
   ],
   "source": [
    "plt.boxplot(df['Age'])\n",
    "plt.title(\"Age box\")\n",
    "plt.ylabel(\"Age\")\n",
    "plt.show()"
   ]
  },
  {
   "cell_type": "code",
   "execution_count": 98,
   "id": "881ff23a-afa7-4a8d-8acb-1297cd79bc4d",
   "metadata": {},
   "outputs": [
    {
     "data": {
      "text/html": [
       "<div>\n",
       "<style scoped>\n",
       "    .dataframe tbody tr th:only-of-type {\n",
       "        vertical-align: middle;\n",
       "    }\n",
       "\n",
       "    .dataframe tbody tr th {\n",
       "        vertical-align: top;\n",
       "    }\n",
       "\n",
       "    .dataframe thead th {\n",
       "        text-align: right;\n",
       "    }\n",
       "</style>\n",
       "<table border=\"1\" class=\"dataframe\">\n",
       "  <thead>\n",
       "    <tr style=\"text-align: right;\">\n",
       "      <th></th>\n",
       "      <th>Name</th>\n",
       "      <th>Age</th>\n",
       "      <th>Height</th>\n",
       "      <th>Weight</th>\n",
       "      <th>Gender</th>\n",
       "      <th>BMI</th>\n",
       "    </tr>\n",
       "  </thead>\n",
       "  <tbody>\n",
       "    <tr>\n",
       "      <th>0</th>\n",
       "      <td>Alice</td>\n",
       "      <td>25.000000</td>\n",
       "      <td>165.0</td>\n",
       "      <td>55.0</td>\n",
       "      <td>F</td>\n",
       "      <td>20.202020</td>\n",
       "    </tr>\n",
       "    <tr>\n",
       "      <th>1</th>\n",
       "      <td>Bob</td>\n",
       "      <td>30.000000</td>\n",
       "      <td>180.0</td>\n",
       "      <td>78.0</td>\n",
       "      <td>M</td>\n",
       "      <td>24.074074</td>\n",
       "    </tr>\n",
       "    <tr>\n",
       "      <th>2</th>\n",
       "      <td>Charlie</td>\n",
       "      <td>35.000000</td>\n",
       "      <td>175.0</td>\n",
       "      <td>72.0</td>\n",
       "      <td>M</td>\n",
       "      <td>23.510204</td>\n",
       "    </tr>\n",
       "    <tr>\n",
       "      <th>3</th>\n",
       "      <td>David</td>\n",
       "      <td>31.428571</td>\n",
       "      <td>170.0</td>\n",
       "      <td>68.0</td>\n",
       "      <td>M</td>\n",
       "      <td>23.529412</td>\n",
       "    </tr>\n",
       "    <tr>\n",
       "      <th>4</th>\n",
       "      <td>Eva</td>\n",
       "      <td>40.000000</td>\n",
       "      <td>170.0</td>\n",
       "      <td>68.0</td>\n",
       "      <td>F</td>\n",
       "      <td>23.529412</td>\n",
       "    </tr>\n",
       "    <tr>\n",
       "      <th>5</th>\n",
       "      <td>Frank</td>\n",
       "      <td>28.000000</td>\n",
       "      <td>178.0</td>\n",
       "      <td>80.0</td>\n",
       "      <td>M</td>\n",
       "      <td>25.249337</td>\n",
       "    </tr>\n",
       "    <tr>\n",
       "      <th>6</th>\n",
       "      <td>Grace</td>\n",
       "      <td>33.000000</td>\n",
       "      <td>160.0</td>\n",
       "      <td>54.0</td>\n",
       "      <td>F</td>\n",
       "      <td>21.093750</td>\n",
       "    </tr>\n",
       "    <tr>\n",
       "      <th>7</th>\n",
       "      <td>Helen</td>\n",
       "      <td>29.000000</td>\n",
       "      <td>158.0</td>\n",
       "      <td>50.0</td>\n",
       "      <td>F</td>\n",
       "      <td>20.028842</td>\n",
       "    </tr>\n",
       "  </tbody>\n",
       "</table>\n",
       "</div>"
      ],
      "text/plain": [
       "      Name        Age  Height  Weight Gender        BMI\n",
       "0    Alice  25.000000   165.0    55.0      F  20.202020\n",
       "1      Bob  30.000000   180.0    78.0      M  24.074074\n",
       "2  Charlie  35.000000   175.0    72.0      M  23.510204\n",
       "3    David  31.428571   170.0    68.0      M  23.529412\n",
       "4      Eva  40.000000   170.0    68.0      F  23.529412\n",
       "5    Frank  28.000000   178.0    80.0      M  25.249337\n",
       "6    Grace  33.000000   160.0    54.0      F  21.093750\n",
       "7    Helen  29.000000   158.0    50.0      F  20.028842"
      ]
     },
     "execution_count": 98,
     "metadata": {},
     "output_type": "execute_result"
    }
   ],
   "source": [
    "df"
   ]
  },
  {
   "cell_type": "code",
   "execution_count": 101,
   "id": "00715284-6d1b-4596-b64b-579a3a51022c",
   "metadata": {},
   "outputs": [
    {
     "name": "stderr",
     "output_type": "stream",
     "text": [
      "C:\\Users\\hp\\AppData\\Local\\Temp\\ipykernel_27220\\2189475930.py:1: MatplotlibDeprecationWarning: The 'labels' parameter of boxplot() has been renamed 'tick_labels' since Matplotlib 3.9; support for the old name will be dropped in 3.11.\n",
      "  plt.boxplot([df['Age'].dropna(), df[\"Height\"].dropna()], labels= ['AGE', 'HEIGHT'])\n"
     ]
    },
    {
     "data": {
      "image/png": "[encoded data removed]",
      "text/plain": [
       "<Figure size 640x480 with 1 Axes>"
      ]
     },
     "metadata": {},
     "output_type": "display_data"
    }
   ],
   "source": [
    "plt.boxplot([df['Age'].dropna(), df[\"Height\"].dropna()], labels= ['AGE', 'HEIGHT'])\n",
    "plt.title(\"Age box\")\n",
    "plt.ylabel(\"Age\")\n",
    "plt.show()"
   ]
  },
  {
   "cell_type": "code",
   "execution_count": null,
   "id": "f8cfee40-3d84-4b1a-b4e2-abb7ee9efd71",
   "metadata": {},
   "outputs": [],
   "source": [
    "Q1 , q2, q3 "
   ]
  },
  {
   "cell_type": "code",
   "execution_count": null,
   "id": "18c30fb6-9106-4a88-ba41-2a5579116a17",
   "metadata": {},
   "outputs": [],
   "source": [
    "QIR = q3- q1 \n",
    "Q1 - 1.5QIR  \n",
    "1.5 QIR + Q3 "
   ]
  },
  {
   "cell_type": "code",
   "execution_count": 102,
   "id": "94c7ffa6-2661-4bf5-b301-9d8199c44d97",
   "metadata": {
    "scrolled": true
   },
   "outputs": [
    {
     "name": "stdout",
     "output_type": "stream",
     "text": [
      "Looking in indexes: https://pypi.org/simple, https://pypi.ngc.nvidia.com\n",
      "Collecting seaborn\n",
      "  Downloading seaborn-0.13.2-py3-none-any.whl.metadata (5.4 kB)\n",
      "Requirement already satisfied: numpy!=1.24.0,>=1.20 in d:\\new_compant\\training\\test\\lib\\site-packages (from seaborn) (2.2.6)\n",
      "Requirement already satisfied: pandas>=1.2 in d:\\new_compant\\training\\test\\lib\\site-packages (from seaborn) (2.3.2)\n",
      "Requirement already satisfied: matplotlib!=3.6.1,>=3.4 in d:\\new_compant\\training\\test\\lib\\site-packages (from seaborn) (3.10.6)\n",
      "Requirement already satisfied: contourpy>=1.0.1 in d:\\new_compant\\training\\test\\lib\\site-packages (from matplotlib!=3.6.1,>=3.4->seaborn) (1.3.2)\n",
      "Requirement already satisfied: cycler>=0.10 in d:\\new_compant\\training\\test\\lib\\site-packages (from matplotlib!=3.6.1,>=3.4->seaborn) (0.12.1)\n",
      "Requirement already satisfied: fonttools>=4.22.0 in d:\\new_compant\\training\\test\\lib\\site-packages (from matplotlib!=3.6.1,>=3.4->seaborn) (4.59.2)\n",
      "Requirement already satisfied: kiwisolver>=1.3.1 in d:\\new_compant\\training\\test\\lib\\site-packages (from matplotlib!=3.6.1,>=3.4->seaborn) (1.4.9)\n",
      "Requirement already satisfied: packaging>=20.0 in d:\\new_compant\\training\\test\\lib\\site-packages (from matplotlib!=3.6.1,>=3.4->seaborn) (25.0)\n",
      "Requirement already satisfied: pillow>=8 in d:\\new_compant\\training\\test\\lib\\site-packages (from matplotlib!=3.6.1,>=3.4->seaborn) (11.3.0)\n",
      "Requirement already satisfied: pyparsing>=2.3.1 in d:\\new_compant\\training\\test\\lib\\site-packages (from matplotlib!=3.6.1,>=3.4->seaborn) (3.2.3)\n",
      "Requirement already satisfied: python-dateutil>=2.7 in d:\\new_compant\\training\\test\\lib\\site-packages (from matplotlib!=3.6.1,>=3.4->seaborn) (2.9.0.post0)\n",
      "Requirement already satisfied: pytz>=2020.1 in d:\\new_compant\\training\\test\\lib\\site-packages (from pandas>=1.2->seaborn) (2025.2)\n",
      "Requirement already satisfied: tzdata>=2022.7 in d:\\new_compant\\training\\test\\lib\\site-packages (from pandas>=1.2->seaborn) (2025.2)\n",
      "Requirement already satisfied: six>=1.5 in d:\\new_compant\\training\\test\\lib\\site-packages (from python-dateutil>=2.7->matplotlib!=3.6.1,>=3.4->seaborn) (1.17.0)\n",
      "Downloading seaborn-0.13.2-py3-none-any.whl (294 kB)\n",
      "Installing collected packages: seaborn\n",
      "Successfully installed seaborn-0.13.2\n"
     ]
    },
    {
     "name": "stderr",
     "output_type": "stream",
     "text": [
      "\n",
      "[notice] A new release of pip is available: 25.1.1 -> 25.2\n",
      "[notice] To update, run: python.exe -m pip install --upgrade pip\n"
     ]
    }
   ],
   "source": [
    "!pip install seaborn"
   ]
  },
  {
   "cell_type": "code",
   "execution_count": 103,
   "id": "ad03400c-2a9b-4461-9180-202f4c2ea21e",
   "metadata": {},
   "outputs": [],
   "source": [
    "import seaborn as sns "
   ]
  },
  {
   "cell_type": "markdown",
   "id": "344fc6bc",
   "metadata": {},
   "source": [
    "## Visualization with Seaborn"
   ]
  },
  {
   "cell_type": "code",
   "execution_count": 104,
   "id": "a6f465a6",
   "metadata": {},
   "outputs": [
    {
     "data": {
      "image/png": "[encoded data removed]",
      "text/plain": [
       "<Figure size 640x480 with 1 Axes>"
      ]
     },
     "metadata": {},
     "output_type": "display_data"
    }
   ],
   "source": [
    "\n",
    "sns.boxplot(x=\"Gender\", y=\"BMI\", data=df)\n",
    "plt.title(\"BMI by Gender\")\n",
    "plt.show()\n"
   ]
  },
  {
   "cell_type": "markdown",
   "id": "f4944c73",
   "metadata": {},
   "source": [
    "## Example Workflow"
   ]
  },
  {
   "cell_type": "code",
   "execution_count": 106,
   "id": "0bd0b82f",
   "metadata": {},
   "outputs": [
    {
     "name": "stdout",
     "output_type": "stream",
     "text": [
      "   Unnamed: 0     Name  Age  Height  Weight Gender\n",
      "0           0    Alice   25     165      55      F\n",
      "1           1      Bob   30     180      78      M\n",
      "2           2  Charlie   35     175      72      M\n",
      "3           3    David    0     170      70      M\n",
      "4           4      Eva   40       0      68      F\n",
      "       Unnamed: 0        Age      Height     Weight\n",
      "count     8.00000   8.000000    8.000000   8.000000\n",
      "mean      3.50000  27.500000  148.250000  65.875000\n",
      "std       2.44949  12.035661   60.443007  11.444743\n",
      "min       0.00000   0.000000    0.000000  50.000000\n",
      "25%       1.75000  27.250000  159.500000  54.750000\n",
      "50%       3.50000  29.500000  167.500000  69.000000\n",
      "75%       5.25000  33.500000  175.750000  73.500000\n",
      "max       7.00000  40.000000  180.000000  80.000000\n",
      "Gender\n",
      "F    31.75\n",
      "M    23.25\n",
      "Name: Age, dtype: float64\n"
     ]
    },
    {
     "data": {
      "image/png": "[encoded data removed]",
      "text/plain": [
       "<Figure size 640x480 with 1 Axes>"
      ]
     },
     "metadata": {},
     "output_type": "display_data"
    }
   ],
   "source": [
    "\n",
    "# Load data\n",
    "workflow_df = pd.read_csv(\"data.csv\")\n",
    "\n",
    "# Explore\n",
    "print(workflow_df.head())\n",
    "print(workflow_df.describe())\n",
    "\n",
    "# Clean missing values\n",
    "workflow_df.fillna(workflow_df.mean(numeric_only=True), inplace=True)\n",
    "\n",
    "# GroupBy\n",
    "print(workflow_df.groupby(\"Gender\")[\"Age\"].mean())\n",
    "\n",
    "# Visualization\n",
    "sns.histplot(workflow_df['Weight'], kde=True)\n",
    "plt.title(\"Weight Distribution\")\n",
    "plt.show()\n"
   ]
  },
  {
   "cell_type": "markdown",
   "id": "d0150d7f",
   "metadata": {},
   "source": [
    "\n",
    "## Summary\n",
    "- **Pandas** is essential for data manipulation.  \n",
    "- **Matplotlib** & **Seaborn** are useful for visualization.  \n",
    "- **GroupBy** is powerful for aggregations.  \n",
    "- **Data cleaning** ensures dataset quality.  \n",
    "- Combined workflow integrates all steps for real projects.\n"
   ]
  }
 ],
 "metadata": {
  "kernelspec": {
   "display_name": "Python 3 (ipykernel)",
   "language": "python",
   "name": "python3"
  },
  "language_info": {
   "codemirror_mode": {
    "name": "ipython",
    "version": 3
   },
   "file_extension": ".py",
   "mimetype": "text/x-python",
   "name": "python",
   "nbconvert_exporter": "python",
   "pygments_lexer": "ipython3",
   "version": "3.10.11"
  }
 },
 "nbformat": 4,
 "nbformat_minor": 5
}
