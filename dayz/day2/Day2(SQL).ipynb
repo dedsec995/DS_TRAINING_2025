{
 "cells": [
  {
   "cell_type": "code",
   "execution_count": 1,
   "id": "417a6725-f126-4662-bba0-586950ba0e6d",
   "metadata": {},
   "outputs": [],
   "source": [
    "import sqlite3"
   ]
  },
  {
   "cell_type": "code",
   "execution_count": null,
   "id": "6ae15566",
   "metadata": {},
   "outputs": [],
   "source": []
  },
  {
   "cell_type": "code",
   "execution_count": null,
   "id": "970cc646-71b6-4f0b-bad5-fc8f580d950c",
   "metadata": {},
   "outputs": [],
   "source": [
    "conn = sqlite3.connect(\"test.db\")"
   ]
  },
  {
   "cell_type": "code",
   "execution_count": 3,
   "id": "84b4c1b0-495c-4f37-bc26-62dc86506e50",
   "metadata": {},
   "outputs": [],
   "source": [
    "cursor = conn.cursor()"
   ]
  },
  {
   "cell_type": "code",
   "execution_count": 4,
   "id": "906727d8-0873-4a5d-a4f7-de49eba4c37a",
   "metadata": {},
   "outputs": [
    {
     "data": {
      "text/plain": [
       "<sqlite3.Cursor at 0x17fc1e0a2c0>"
      ]
     },
     "execution_count": 4,
     "metadata": {},
     "output_type": "execute_result"
    }
   ],
   "source": [
    "cursor.execute(\"\"\" \n",
    "\n",
    "    CREATE TABLE student(\n",
    "       st_id INTEGER, \n",
    "       st_name TEXT, \n",
    "       st_marks DECIMAL, \n",
    "       st_subjects TEXT\n",
    "    \n",
    "    )\n",
    "\"\"\")"
   ]
  },
  {
   "cell_type": "code",
   "execution_count": 5,
   "id": "37d86991",
   "metadata": {},
   "outputs": [
    {
     "data": {
      "text/plain": [
       "[('student',)]"
      ]
     },
     "execution_count": 5,
     "metadata": {},
     "output_type": "execute_result"
    }
   ],
   "source": [
    "cursor.execute(\"select  name from sqlite_master where type='table';\").fetchall()"
   ]
  },
  {
   "cell_type": "code",
   "execution_count": 6,
   "id": "958a891b",
   "metadata": {},
   "outputs": [],
   "source": [
    "stud_data = [(1, \"ali\", 45, \"chem\"), (3, \"ahmed\", 56, \"phy\"), (5, \"basit\", 78, \"math\")] "
   ]
  },
  {
   "cell_type": "code",
   "execution_count": 7,
   "id": "b1ec995b",
   "metadata": {},
   "outputs": [
    {
     "data": {
      "text/plain": [
       "[(1, 'ali', 45, 'chem'), (3, 'ahmed', 56, 'phy'), (5, 'basit', 78, 'math')]"
      ]
     },
     "execution_count": 7,
     "metadata": {},
     "output_type": "execute_result"
    }
   ],
   "source": [
    "stud_data"
   ]
  },
  {
   "cell_type": "code",
   "execution_count": 8,
   "id": "bad7e4d2",
   "metadata": {},
   "outputs": [
    {
     "data": {
      "text/plain": [
       "<sqlite3.Cursor at 0x17fc1e0a2c0>"
      ]
     },
     "execution_count": 8,
     "metadata": {},
     "output_type": "execute_result"
    }
   ],
   "source": [
    "cursor.executemany(\"INSERT INTO student (st_id,st_name, st_marks, st_subjects) VALUES (?, ? , ? ,?)\", stud_data)"
   ]
  },
  {
   "cell_type": "code",
   "execution_count": 9,
   "id": "8e163663",
   "metadata": {},
   "outputs": [
    {
     "data": {
      "text/plain": [
       "[(1, 'ali', 45, 'chem'), (3, 'ahmed', 56, 'phy'), (5, 'basit', 78, 'math')]"
      ]
     },
     "execution_count": 9,
     "metadata": {},
     "output_type": "execute_result"
    }
   ],
   "source": [
    "cursor.execute(\"select * from student\").fetchall()"
   ]
  },
  {
   "cell_type": "code",
   "execution_count": 10,
   "id": "fd525a74",
   "metadata": {},
   "outputs": [
    {
     "data": {
      "text/plain": [
       "[(3, 'ahmed', 56, 'phy'), (5, 'basit', 78, 'math')]"
      ]
     },
     "execution_count": 10,
     "metadata": {},
     "output_type": "execute_result"
    }
   ],
   "source": [
    "cursor.execute(\"select * from student where st_marks > 53\").fetchall()"
   ]
  },
  {
   "cell_type": "code",
   "execution_count": 11,
   "id": "5bcfcc2f",
   "metadata": {},
   "outputs": [
    {
     "data": {
      "text/plain": [
       "(3, 59.666666666666664)"
      ]
     },
     "execution_count": 11,
     "metadata": {},
     "output_type": "execute_result"
    }
   ],
   "source": [
    "cursor.execute(\"select COUNT(*), AVG(st_marks) from student\").fetchone()"
   ]
  },
  {
   "cell_type": "code",
   "execution_count": null,
   "id": "d41721b2",
   "metadata": {},
   "outputs": [
    {
     "data": {
      "text/plain": [
       "[]"
      ]
     },
     "execution_count": 12,
     "metadata": {},
     "output_type": "execute_result"
    }
   ],
   "source": [
    "cursor.execute(\"UPDATE student set st_name='irfan' where st_id=1;\").fetchall()"
   ]
  },
  {
   "cell_type": "code",
   "execution_count": 13,
   "id": "1f9a1e30",
   "metadata": {},
   "outputs": [
    {
     "data": {
      "text/plain": [
       "[(1, 'irfan', 45, 'chem'), (3, 'ahmed', 56, 'phy'), (5, 'basit', 78, 'math')]"
      ]
     },
     "execution_count": 13,
     "metadata": {},
     "output_type": "execute_result"
    }
   ],
   "source": [
    "cursor.execute(\"select * from student;\").fetchall()"
   ]
  },
  {
   "cell_type": "code",
   "execution_count": 16,
   "id": "84f0ca1e",
   "metadata": {},
   "outputs": [
    {
     "data": {
      "text/plain": [
       "[(1, 'amit', 45, 'chem'), (3, 'ahmed', 56, 'phy'), (5, 'basit', 78, 'math')]"
      ]
     },
     "execution_count": 16,
     "metadata": {},
     "output_type": "execute_result"
    }
   ],
   "source": [
    "cursor.execute(\"UPDATE student set st_name='amit' where st_id=1;\")\n",
    "cursor.execute(\"select * from student;\").fetchall()"
   ]
  }
 ],
 "metadata": {
  "kernelspec": {
   "display_name": "env",
   "language": "python",
   "name": "python3"
  },
  "language_info": {
   "codemirror_mode": {
    "name": "ipython",
    "version": 3
   },
   "file_extension": ".py",
   "mimetype": "text/x-python",
   "name": "python",
   "nbconvert_exporter": "python",
   "pygments_lexer": "ipython3",
   "version": "3.13.7"
  }
 },
 "nbformat": 4,
 "nbformat_minor": 5
}
