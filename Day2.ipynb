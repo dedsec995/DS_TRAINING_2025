{
 "cells": [
  {
   "cell_type": "markdown",
   "id": "ee5f7b5f-19be-44c8-b675-523981f3ad60",
   "metadata": {},
   "source": [
    "## Data Structres in Python"
   ]
  },
  {
   "cell_type": "markdown",
   "id": "abfd0114-2d64-40ee-8b90-fee760b1ba7f",
   "metadata": {},
   "source": [
    "### List"
   ]
  },
  {
   "cell_type": "code",
   "execution_count": 3,
   "id": "c5bb186b-aaa5-40ca-bec5-fe8bc5818c09",
   "metadata": {},
   "outputs": [
    {
     "name": "stdout",
     "output_type": "stream",
     "text": [
      "[] [2, 5, 6]\n"
     ]
    }
   ],
   "source": [
    "a = []\n",
    "b = [2,5,6]\n",
    "print(a,b)"
   ]
  },
  {
   "cell_type": "markdown",
   "id": "23b82f90-2628-4797-ac3c-c64552038209",
   "metadata": {},
   "source": [
    "Mutable, Heterogeneous"
   ]
  },
  {
   "cell_type": "code",
   "execution_count": 6,
   "id": "f698daea-f5cc-454c-b754-fe5da9528a0e",
   "metadata": {},
   "outputs": [
    {
     "data": {
      "text/plain": [
       "[2, True, 6]"
      ]
     },
     "execution_count": 6,
     "metadata": {},
     "output_type": "execute_result"
    }
   ],
   "source": [
    "b[1] = True\n",
    "b"
   ]
  },
  {
   "cell_type": "code",
   "execution_count": 11,
   "id": "57e98f1d-e06d-429a-a4d7-4d5e85715acd",
   "metadata": {},
   "outputs": [
    {
     "name": "stdout",
     "output_type": "stream",
     "text": [
      "21\n"
     ]
    },
    {
     "data": {
      "text/plain": [
       "21"
      ]
     },
     "execution_count": 11,
     "metadata": {},
     "output_type": "execute_result"
    }
   ],
   "source": [
    "x = [5,4,6,4,2]\n",
    "summy = 0\n",
    "for num in x:\n",
    "    summy+=num\n",
    "print(summy)\n",
    "\n",
    "# Or Let have some built in ~~~~~~FUN~~~~~\n",
    "sum(x)"
   ]
  },
  {
   "cell_type": "markdown",
   "id": "586560a6-2974-47c9-bb99-5b72f65bb9eb",
   "metadata": {},
   "source": [
    "#### Tuple"
   ]
  },
  {
   "cell_type": "code",
   "execution_count": 7,
   "id": "a187513c-c66d-4ba7-a5cb-990ca4264ed2",
   "metadata": {},
   "outputs": [
    {
     "data": {
      "text/plain": [
       "('str', 5.0, True)"
      ]
     },
     "execution_count": 7,
     "metadata": {},
     "output_type": "execute_result"
    }
   ],
   "source": [
    "tt = ('str', 5.0, True)\n",
    "tt"
   ]
  },
  {
   "cell_type": "code",
   "execution_count": 5,
   "id": "ffb512b7-c49c-460d-925c-97eb92a8dd58",
   "metadata": {},
   "outputs": [
    {
     "data": {
      "text/plain": [
       "'str'"
      ]
     },
     "execution_count": 5,
     "metadata": {},
     "output_type": "execute_result"
    }
   ],
   "source": [
    "tt[0]"
   ]
  },
  {
   "cell_type": "markdown",
   "id": "1f235651-4db6-4c11-8823-f077127dcc44",
   "metadata": {},
   "source": [
    "Non Mutable, Again Heterogenous"
   ]
  },
  {
   "cell_type": "markdown",
   "id": "61b3ff51-1896-4a5d-9304-0181dd308e3e",
   "metadata": {},
   "source": [
    "#### Dict"
   ]
  },
  {
   "cell_type": "code",
   "execution_count": 14,
   "id": "0564fda8-ec23-48ec-b673-7231acd04338",
   "metadata": {},
   "outputs": [
    {
     "name": "stdout",
     "output_type": "stream",
     "text": [
      "Name - stud1 \t\t Mark - 99\n",
      "Name - stud2 \t\t Mark - 64\n",
      "Name - stud3 \t\t Mark - 45\n"
     ]
    }
   ],
   "source": [
    "dicty = {\"stud1\":99,\"stud2\":64,\"stud3\":45}\n",
    "for k, v in dicty.items():\n",
    "    print(f\"Name - {k} \\t\\t Mark - {v}\")"
   ]
  },
  {
   "cell_type": "markdown",
   "id": "f17023f5-ee36-40fe-b1e4-4599544fe80d",
   "metadata": {},
   "source": [
    "Key Value Pair. Underlying uses hash, So access time is 0(1) avg. Worst would still be same"
   ]
  },
  {
   "cell_type": "markdown",
   "id": "a79a2d59-d7e8-4cc9-a3df-e4614b67e31e",
   "metadata": {},
   "source": [
    "#### List Comprehansion"
   ]
  },
  {
   "cell_type": "code",
   "execution_count": 33,
   "id": "6def0958-2e2b-4274-9e27-d7e156cecb57",
   "metadata": {},
   "outputs": [
    {
     "data": {
      "text/plain": [
       "[[1, 2, 3], [4, 5, 6]]"
      ]
     },
     "execution_count": 33,
     "metadata": {},
     "output_type": "execute_result"
    }
   ],
   "source": [
    "a = [[1,2,3],[4,5,6]]\n",
    "a"
   ]
  },
  {
   "cell_type": "code",
   "execution_count": 34,
   "id": "21da3604-71ec-4cf1-a573-97247213ec79",
   "metadata": {},
   "outputs": [
    {
     "data": {
      "text/plain": [
       "[[1, 4, 9], [16, 25, 36]]"
      ]
     },
     "execution_count": 34,
     "metadata": {},
     "output_type": "execute_result"
    }
   ],
   "source": [
    "ans = [[g ** 2 for g in i] for i in a]\n",
    "ans"
   ]
  },
  {
   "cell_type": "code",
   "execution_count": 35,
   "id": "9a5b470e-93b9-4cae-a2a7-e8f1c89c401c",
   "metadata": {},
   "outputs": [
    {
     "data": {
      "text/plain": [
       "[[1, 4, 9]]"
      ]
     },
     "execution_count": 35,
     "metadata": {},
     "output_type": "execute_result"
    }
   ],
   "source": [
    "del ans[-1]\n",
    "ans"
   ]
  },
  {
   "cell_type": "code",
   "execution_count": 36,
   "id": "75bdaaf6-b22e-4e28-9a3c-6df80383eb0b",
   "metadata": {},
   "outputs": [],
   "source": [
    "a = [3,5,6,78,7654,456,7,654,3,45,67,6]"
   ]
  },
  {
   "cell_type": "code",
   "execution_count": 37,
   "id": "79074405-f913-4fff-bca6-5d85532b8efc",
   "metadata": {},
   "outputs": [
    {
     "data": {
      "text/plain": [
       "[3, 5, 6, 78, 7654, 456, 7, 654, 45, 67, 6]"
      ]
     },
     "execution_count": 37,
     "metadata": {},
     "output_type": "execute_result"
    }
   ],
   "source": [
    "del a[-4]\n",
    "a"
   ]
  },
  {
   "cell_type": "code",
   "execution_count": 38,
   "id": "7b5e6f1a-1091-42b1-ade5-f60777f3be15",
   "metadata": {},
   "outputs": [
    {
     "data": {
      "text/plain": [
       "6"
      ]
     },
     "execution_count": 38,
     "metadata": {},
     "output_type": "execute_result"
    }
   ],
   "source": [
    "a.pop()"
   ]
  },
  {
   "cell_type": "code",
   "execution_count": 40,
   "id": "90b83998-378b-40f1-ae5e-427bc0187700",
   "metadata": {},
   "outputs": [
    {
     "ename": "ValueError",
     "evalue": "list.remove(x): x not in list",
     "output_type": "error",
     "traceback": [
      "\u001b[31m---------------------------------------------------------------------------\u001b[39m",
      "\u001b[31mValueError\u001b[39m                                Traceback (most recent call last)",
      "\u001b[36mCell\u001b[39m\u001b[36m \u001b[39m\u001b[32mIn[40]\u001b[39m\u001b[32m, line 1\u001b[39m\n\u001b[32m----> \u001b[39m\u001b[32m1\u001b[39m \u001b[43ma\u001b[49m\u001b[43m.\u001b[49m\u001b[43mremove\u001b[49m\u001b[43m(\u001b[49m\u001b[32;43m3\u001b[39;49m\u001b[43m)\u001b[49m\n\u001b[32m      2\u001b[39m a\n",
      "\u001b[31mValueError\u001b[39m: list.remove(x): x not in list"
     ]
    }
   ],
   "source": [
    "a.remove(3)"
   ]
  },
  {
   "cell_type": "code",
   "execution_count": 41,
   "id": "0d064dcf-0d71-4fca-8ca9-b48a2b31a617",
   "metadata": {},
   "outputs": [
    {
     "data": {
      "text/plain": [
       "[5, 6, 78, 7654, 456, 7, 654, 45, 67]"
      ]
     },
     "execution_count": 41,
     "metadata": {},
     "output_type": "execute_result"
    }
   ],
   "source": [
    "a"
   ]
  },
  {
   "cell_type": "code",
   "execution_count": null,
   "id": "673a9e71-c119-48ff-8af9-0966e2533d3a",
   "metadata": {},
   "outputs": [],
   "source": []
  }
 ],
 "metadata": {
  "kernelspec": {
   "display_name": "Python 3 (ipykernel)",
   "language": "python",
   "name": "python3"
  },
  "language_info": {
   "codemirror_mode": {
    "name": "ipython",
    "version": 3
   },
   "file_extension": ".py",
   "mimetype": "text/x-python",
   "name": "python",
   "nbconvert_exporter": "python",
   "pygments_lexer": "ipython3",
   "version": "3.13.7"
  }
 },
 "nbformat": 4,
 "nbformat_minor": 5
}
