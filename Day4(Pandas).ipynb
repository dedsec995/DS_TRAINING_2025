{
 "cells": [
  {
   "cell_type": "markdown",
   "id": "b75631e0",
   "metadata": {},
   "source": [
    "# Pandas Baby!!!!"
   ]
  },
  {
   "cell_type": "markdown",
   "id": "6bbba10e",
   "metadata": {},
   "source": [
    "### You know how it goes, You import"
   ]
  },
  {
   "cell_type": "code",
   "execution_count": 1,
   "id": "98902df4",
   "metadata": {},
   "outputs": [],
   "source": [
    "import pandas as pd"
   ]
  },
  {
   "cell_type": "code",
   "execution_count": null,
   "id": "2c5b3a03",
   "metadata": {},
   "outputs": [],
   "source": []
  }
 ],
 "metadata": {
  "kernelspec": {
   "display_name": "env",
   "language": "python",
   "name": "python3"
  },
  "language_info": {
   "codemirror_mode": {
    "name": "ipython",
    "version": 3
   },
   "file_extension": ".py",
   "mimetype": "text/x-python",
   "name": "python",
   "nbconvert_exporter": "python",
   "pygments_lexer": "ipython3",
   "version": "3.13.7"
  }
 },
 "nbformat": 4,
 "nbformat_minor": 5
}
