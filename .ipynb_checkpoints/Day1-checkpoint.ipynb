{
 "cells": [
  {
   "cell_type": "markdown",
   "id": "0f69a4ec-343a-406e-a054-5df35f050176",
   "metadata": {},
   "source": [
    "# Training Starts Today!!"
   ]
  },
  {
   "cell_type": "raw",
   "id": "8a9de94a-a27b-414f-be6d-b359e49dc85a",
   "metadata": {},
   "source": [
    "Yep, Pretty Much"
   ]
  },
  {
   "cell_type": "code",
   "execution_count": 3,
   "id": "023cf1d7-9e0a-4333-91ce-bf1a3cde5676",
   "metadata": {},
   "outputs": [
    {
     "name": "stdout",
     "output_type": "stream",
     "text": [
      "Done Piece\n"
     ]
    }
   ],
   "source": [
    "print(\"Done Piece\")"
   ]
  },
  {
   "cell_type": "code",
   "execution_count": 4,
   "id": "ed837e59-6b76-424d-9ea0-77a2b9cc272f",
   "metadata": {},
   "outputs": [],
   "source": [
    "x = 9999"
   ]
  },
  {
   "cell_type": "code",
   "execution_count": 5,
   "id": "18729cfd-104c-47ee-8a46-4fd7c8817e07",
   "metadata": {},
   "outputs": [
    {
     "data": {
      "text/plain": [
       "int"
      ]
     },
     "execution_count": 5,
     "metadata": {},
     "output_type": "execute_result"
    }
   ],
   "source": [
    "type(x)"
   ]
  },
  {
   "cell_type": "code",
   "execution_count": 6,
   "id": "bc9ac8c6-b775-4301-8413-a4e456b2448f",
   "metadata": {},
   "outputs": [],
   "source": [
    "x = \"A\""
   ]
  },
  {
   "cell_type": "code",
   "execution_count": 8,
   "id": "ee1cc282-9dd1-4c2b-a12c-951ef69178b1",
   "metadata": {},
   "outputs": [
    {
     "data": {
      "text/plain": [
       "str"
      ]
     },
     "execution_count": 8,
     "metadata": {},
     "output_type": "execute_result"
    }
   ],
   "source": [
    "type(x)"
   ]
  },
  {
   "cell_type": "code",
   "execution_count": 14,
   "id": "41002f0d-d0b3-4d96-8631-2080fcc2cd89",
   "metadata": {},
   "outputs": [
    {
     "name": "stdout",
     "output_type": "stream",
     "text": [
      "x + y = 11.5\n",
      "x - y = 4.5\n",
      "x * y = 28.0\n",
      "x / y = 2.2857142857142856\n",
      "x // y = 2.0\n"
     ]
    }
   ],
   "source": [
    "x = 8\n",
    "y = 3.5\n",
    "print(f\"x + y = {x+y}\")\n",
    "print(f\"x - y = {x-y}\")\n",
    "print(f\"x * y = {x*y}\")\n",
    "print(f\"x / y = {x/y}\")\n",
    "print(f\"x // y = {x//y}\")"
   ]
  },
  {
   "cell_type": "code",
   "execution_count": 15,
   "id": "eae25dea-3118-42e1-b2f4-bcaf0f2201bd",
   "metadata": {},
   "outputs": [
    {
     "name": "stdin",
     "output_type": "stream",
     "text": [
      "Please enter your bank account no. 123456790\n"
     ]
    }
   ],
   "source": [
    "the_input = input(\"Please enter your bank account no.\")"
   ]
  },
  {
   "cell_type": "code",
   "execution_count": 16,
   "id": "d160bd76-4952-4e51-a61c-a289b95f6b4a",
   "metadata": {},
   "outputs": [
    {
     "name": "stdout",
     "output_type": "stream",
     "text": [
      "123456790\n"
     ]
    }
   ],
   "source": [
    "print(the_input)"
   ]
  },
  {
   "cell_type": "code",
   "execution_count": 18,
   "id": "3c376cf1-ad93-4dba-bcc9-4a9f10ce823c",
   "metadata": {},
   "outputs": [
    {
     "name": "stdout",
     "output_type": "stream",
     "text": [
      "<class 'str'>\n",
      "<class 'int'>\n"
     ]
    }
   ],
   "source": [
    "print(type(the_input))\n",
    "typecast_input = int(the_input)\n",
    "print(type(typecast_input))"
   ]
  },
  {
   "cell_type": "code",
   "execution_count": 24,
   "id": "50b8a12b-2b37-4814-86db-7bd685bf4c21",
   "metadata": {},
   "outputs": [
    {
     "name": "stdin",
     "output_type": "stream",
     "text": [
      "Enter the first var:  5\n",
      "Enter the Second var:  4\n",
      "Enter the operator:  +\n"
     ]
    },
    {
     "name": "stdout",
     "output_type": "stream",
     "text": [
      "\n",
      "\n",
      "\n",
      "The Result.....\n",
      "5.0 + 4.0 = 9.0\n"
     ]
    }
   ],
   "source": [
    "varA = float(input(\"Enter the first var: \"))\n",
    "varB = float(input(\"Enter the Second var: \"))\n",
    "op = input(\"Enter the operator: \")\n",
    "print()\n",
    "print()\n",
    "print()\n",
    "print(\"The Result.....\")\n",
    "if(op == '+'):\n",
    "    print(f\"{varA} {op} {varB} = {varA+varB}\")\n",
    "elif(op == '-'):\n",
    "    print(f\"{varA} {op} {varB} = {varA-varB}\")\n",
    "elif(op == '*'):\n",
    "    print(f\"{varA} {op} {varB} = {varA*varB}\")\n",
    "elif(op == '/'):\n",
    "    print(f\"{varA} {op} {varB} = {varA//varB}\")\n",
    "else:\n",
    "    print(\"Please enter correct input's again\")"
   ]
  },
  {
   "cell_type": "code",
   "execution_count": null,
   "id": "96261782-3d27-4bf1-bede-3c73063fef3c",
   "metadata": {
    "scrolled": true
   },
   "outputs": [],
   "source": [
    "while True:\n",
    "    print(\"YaY\")"
   ]
  },
  {
   "cell_type": "code",
   "execution_count": 40,
   "id": "23705366-07f3-4345-ba86-9770bdd96c3b",
   "metadata": {},
   "outputs": [
    {
     "name": "stdin",
     "output_type": "stream",
     "text": [
      "Enter the first var:  3\n",
      "Enter the Second var:  5\n",
      "Enter the operator:  +\n"
     ]
    },
    {
     "name": "stdout",
     "output_type": "stream",
     "text": [
      "\n",
      "\n",
      "\n",
      "\n",
      "3.0 + 5.0 = 8.0\n"
     ]
    },
    {
     "name": "stdin",
     "output_type": "stream",
     "text": [
      "Do you want to continue(y/n)? y\n"
     ]
    },
    {
     "name": "stdout",
     "output_type": "stream",
     "text": [
      "\n",
      "\n",
      "\n",
      "\n"
     ]
    },
    {
     "name": "stdin",
     "output_type": "stream",
     "text": [
      "Enter the first var:  2\n",
      "Enter the Second var:  4\n",
      "Enter the operator:  -\n"
     ]
    },
    {
     "name": "stdout",
     "output_type": "stream",
     "text": [
      "\n",
      "\n",
      "\n",
      "\n",
      "2.0 - 4.0 = -2.0\n"
     ]
    },
    {
     "name": "stdin",
     "output_type": "stream",
     "text": [
      "Do you want to continue(y/n)? 2\n"
     ]
    },
    {
     "name": "stdout",
     "output_type": "stream",
     "text": [
      "\n",
      "\n",
      "\n",
      "\n",
      "### --- Good Bye Dream Boat --- ###\n"
     ]
    }
   ],
   "source": [
    "cont = 'y'\n",
    "\n",
    "while cont == 'y':\n",
    "    varA = float(input(\"Enter the first var: \"))\n",
    "    varB = float(input(\"Enter the Second var: \"))\n",
    "    op = input(\"Enter the operator: \")\n",
    "    print()\n",
    "    print()\n",
    "    print()\n",
    "    print()\n",
    "    if(op == '+'):\n",
    "        print(f\"{varA} {op} {varB} = {varA+varB}\")\n",
    "    elif(op == '-'):\n",
    "        print(f\"{varA} {op} {varB} = {varA-varB}\")\n",
    "    elif(op == '*'):\n",
    "        print(f\"{varA} {op} {varB} = {varA*varB}\")\n",
    "    elif(op == '/'):\n",
    "        print(f\"{varA} {op} {varB} = {varA//varB}\")\n",
    "    else:\n",
    "        print(\"Please enter correct input's again\")\n",
    "    cont = input(\"Do you want to continue(y/n)?\")\n",
    "    print()\n",
    "    print()\n",
    "    print()\n",
    "    print()\n",
    "print(\"### --- Good Bye Dream Boat --- ###\")"
   ]
  },
  {
   "cell_type": "code",
   "execution_count": 71,
   "id": "5bdeef8a-5b9e-4713-94b8-e6a8a6e5b657",
   "metadata": {},
   "outputs": [
    {
     "name": "stdout",
     "output_type": "stream",
     "text": [
      "1. Mathematical Operations\n",
      "2. Logical Operatoins\n"
     ]
    },
    {
     "name": "stdin",
     "output_type": "stream",
     "text": [
      "Which one do you want!! 1\n",
      "Enter the first var:  2\n",
      "Enter the Second var:  5\n",
      "Enter the operator(add,sub,mul,div):  add\n"
     ]
    },
    {
     "name": "stdout",
     "output_type": "stream",
     "text": [
      "2.0 + 5.0 = 7.0\n"
     ]
    },
    {
     "name": "stdin",
     "output_type": "stream",
     "text": [
      "Do you want to continue(y/n)? n\n"
     ]
    },
    {
     "name": "stdout",
     "output_type": "stream",
     "text": [
      "\n",
      "\n",
      "\n",
      "\n",
      "### --- Good Bye Dream Boat --- ###\n"
     ]
    }
   ],
   "source": [
    "def addme(a,b):\n",
    "    return a+b\n",
    "\n",
    "def subme(a,b):\n",
    "    return a-b\n",
    "\n",
    "def mulme(a,b):\n",
    "    return a*b\n",
    "\n",
    "def divme(a,b):\n",
    "    return a/b\n",
    "\n",
    "def andme():\n",
    "    varA = int(input(\"Enter the first var(1/0): \"))\n",
    "    varB = int(input(\"Enter the second var(1/0): \"))\n",
    "    if(varA == 1 or varA == 0) and (varB == 0 or varB == 1):\n",
    "        if(varA == 1):\n",
    "            varA = True\n",
    "        else:\n",
    "            varA = False\n",
    "        if(varB == 1):\n",
    "            varB = True\n",
    "        else:\n",
    "            varB = False\n",
    "        print(f\"{varA} and {varB} = {(varA or varB)}\")\n",
    "    else:\n",
    "        print(\"Wrong input, go again\")\n",
    "        \n",
    "def notme():\n",
    "    varA = int(input(\"Enter the first var(1/0): \"))\n",
    "    if(varA == 1 or varA == 0):\n",
    "        if(varA == 1):\n",
    "            varA = True\n",
    "        else:\n",
    "            varA = False\n",
    "        print(f\"{varA} not = {(not varA)}\")\n",
    "    else:\n",
    "        print(\"Wrong input, go again\")\n",
    "\n",
    "def orme():\n",
    "    varA = int(input(\"Enter the first var(1/0): \"))\n",
    "    varB = int(input(\"Enter the second var(1/0): \"))\n",
    "    if(varA == 1 or varA == 0) and (varB == 0 or varB == 1):\n",
    "        if(varA == 1):\n",
    "            varA = True\n",
    "        else:\n",
    "            varA = False\n",
    "        if(varB == 1):\n",
    "            varB = True\n",
    "        else:\n",
    "            varB = False\n",
    "        print(f\"{varA} or {varB} = {(varA or varB)}\")\n",
    "    else:\n",
    "        print(\"Wrong input, go again\")\n",
    "\n",
    "def mathulator():\n",
    "    varA = float(input(\"Enter the first var: \"))\n",
    "    varB = float(input(\"Enter the Second var: \"))\n",
    "    op = input(\"Enter the operator(add,sub,mul,div): \")\n",
    "    if(op == 'add'):\n",
    "        print(f\"{varA} + {varB} = {addme(varA,varB)}\")\n",
    "    elif(op == 'sub'):\n",
    "        print(f\"{varA} - {varB} = {subme(varA,varB)}\")\n",
    "    elif(op == 'mul'):\n",
    "        print(f\"{varA} * {varB} = {mulme(varA,varB)}\")\n",
    "    elif(op == 'div'):\n",
    "        print(f\"{varA} / {varB} = {divme(varA,varB)}\")\n",
    "    else:\n",
    "        print(\"Please enter correct input's\")\n",
    "    cont = input(\"Do you want to continue(y/n)?\")\n",
    "    print()\n",
    "    print()\n",
    "    print()\n",
    "    print()\n",
    "    return cont\n",
    "\n",
    "def logulator():\n",
    "    op = input(\"Enter the operator(and,or,not): \")\n",
    "    if(op == 'and'):\n",
    "        andme()\n",
    "    elif(op == 'or'):\n",
    "        orme()    \n",
    "    elif(op == 'not'):\n",
    "        notme()    \n",
    "    else:\n",
    "        print(\"Please select the correct operator's\")    \n",
    "    cont = input(\"Do you want to continue(y/n)?\")\n",
    "    print()\n",
    "    print()\n",
    "    print()\n",
    "    print()\n",
    "    return cont\n",
    "    \n",
    "cont = 'y'\n",
    "\n",
    "while cont == 'y':\n",
    "    print(\"1. Mathematical Operations\")\n",
    "    print(\"2. Logical Operatoins\")\n",
    "    ulator = input(\"Which one do you want!!\")\n",
    "    \n",
    "    if(ulator == '1'):\n",
    "        cont = mathulator()\n",
    "    elif (ulator == '2'):\n",
    "        cont = logulator()\n",
    "    else:\n",
    "        print(\"Enter either 1 or 2\")\n",
    "    \n",
    "print(\"### --- Good Bye Dream Boat --- ###\")"
   ]
  },
  {
   "cell_type": "code",
   "execution_count": null,
   "id": "f2f325f6-fbc6-423c-b69e-80e022aa53c0",
   "metadata": {},
   "outputs": [],
   "source": []
  }
 ],
 "metadata": {
  "kernelspec": {
   "display_name": "Python 3 (ipykernel)",
   "language": "python",
   "name": "python3"
  },
  "language_info": {
   "codemirror_mode": {
    "name": "ipython",
    "version": 3
   },
   "file_extension": ".py",
   "mimetype": "text/x-python",
   "name": "python",
   "nbconvert_exporter": "python",
   "pygments_lexer": "ipython3",
   "version": "3.13.7"
  }
 },
 "nbformat": 4,
 "nbformat_minor": 5
}
